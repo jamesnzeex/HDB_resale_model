{
 "cells": [
  {
   "cell_type": "markdown",
   "id": "daily-referral",
   "metadata": {},
   "source": [
    "# HDB Resale Transaction Analysis"
   ]
  },
  {
   "cell_type": "markdown",
   "id": "applicable-scholar",
   "metadata": {},
   "source": [
    "###### By: James\n",
    "---\n",
    "The focus for this python notebook will be on how to interact with APIs in Python and data pre-processing using Singapore HDB resale data. It will be heavy on the python scripting with brief mention on various ML/statistical model used for regression analysis. Hence, pardon me if there is a lack of academic and statistical rigour in any part of this notebook.\n",
    "\n",
    "###### Resources\n",
    "---\n",
    "HDB resale price: https://data.gov.sg/dataset/resale-flat-prices <br>\n",
    "HDB resale price index: https://data.gov.sg/dataset/hdb-resale-price-index <br>\n",
    "HDB property info: https://data.gov.sg/dataset/hdb-property-information <br>\n",
    "School Information: https://data.gov.sg/dataset/school-directory-and-information <br>\n",
    "OneMap API: https://www.onemap.gov.sg/docs/#introduction"
   ]
  },
  {
   "cell_type": "markdown",
   "id": "cloudy-prototype",
   "metadata": {},
   "source": [
    "# Libraries"
   ]
  },
  {
   "cell_type": "code",
   "execution_count": 404,
   "id": "addressed-celebration",
   "metadata": {},
   "outputs": [
    {
     "name": "stdout",
     "output_type": "stream",
     "text": [
      "Panda Version: 1.2.0\n",
      "NumPy Version: 1.19.2\n",
      "GeoPy Version: 2.1.0\n",
      "lightGBM Version: 3.2.1\n"
     ]
    }
   ],
   "source": [
    "import glob\n",
    "import os\n",
    "import gc\n",
    "import pandas as pd\n",
    "import numpy as np\n",
    "import geopy.distance\n",
    "import json\n",
    "import requests\n",
    "\n",
    "import seaborn as sns\n",
    "import matplotlib.pyplot as plt\n",
    "%matplotlib inline\n",
    "\n",
    "from collections import Counter\n",
    "\n",
    "# machine learning\n",
    "from sklearn.metrics import make_scorer, mean_squared_error, mean_absolute_error\n",
    "\n",
    "from sklearn.model_selection import KFold, cross_val_score # for cross validation eval, hyperparameter tuning\n",
    "from sklearn.model_selection import train_test_split \n",
    "\n",
    "from sklearn.pipeline import make_pipeline\n",
    "\n",
    "from sklearn.preprocessing import StandardScaler\n",
    "\n",
    "from sklearn.linear_model import Lasso\n",
    "from sklearn.ensemble import RandomForestRegressor\n",
    "from sklearn.tree import DecisionTreeRegressor\n",
    "\n",
    "import lightgbm as lgb\n",
    "\n",
    "sns.set(style='white', context='notebook', palette='deep')\n",
    "\n",
    "print ('Panda Version:', pd.__version__)\n",
    "print ('NumPy Version:', np.__version__)\n",
    "print ('GeoPy Version:', geopy.__version__)\n",
    "print ('lightGBM Version:', lgb.__version__)"
   ]
  },
  {
   "cell_type": "markdown",
   "id": "parliamentary-daniel",
   "metadata": {},
   "source": [
    "# Data Preprocessing"
   ]
  },
  {
   "cell_type": "markdown",
   "id": "excellent-trail",
   "metadata": {},
   "source": [
    "## Dataset"
   ]
  },
  {
   "cell_type": "markdown",
   "id": "european-subscriber",
   "metadata": {},
   "source": [
    "A quick check on the data downloaded from data.gov.sg showed that data from 2015 onwards contains 11 columns instead of 10. The additional column is `remaining lease`, which in my opinion will have an impact to HDB resale prices. Keeping that in mind, we will be creating it for data that does not have it."
   ]
  },
  {
   "cell_type": "code",
   "execution_count": 2,
   "id": "massive-adoption",
   "metadata": {
    "scrolled": true
   },
   "outputs": [
    {
     "name": "stdout",
     "output_type": "stream",
     "text": [
      "./data/transaction\\resale-flat-prices-based-on-approval-date-1990-1999.csv has  10 columns\n",
      "\n",
      "Index(['month', 'town', 'flat_type', 'block', 'street_name', 'storey_range',\n",
      "       'floor_area_sqm', 'flat_model', 'lease_commence_date', 'resale_price'],\n",
      "      dtype='object') \n",
      "\n",
      "month                   object\n",
      "town                    object\n",
      "flat_type               object\n",
      "block                   object\n",
      "street_name             object\n",
      "storey_range            object\n",
      "floor_area_sqm         float64\n",
      "flat_model              object\n",
      "lease_commence_date      int64\n",
      "resale_price             int64\n",
      "dtype: object \n",
      "\n",
      "./data/transaction\\resale-flat-prices-based-on-approval-date-2000-feb-2012.csv has  10 columns\n",
      "\n",
      "Index(['month', 'town', 'flat_type', 'block', 'street_name', 'storey_range',\n",
      "       'floor_area_sqm', 'flat_model', 'lease_commence_date', 'resale_price'],\n",
      "      dtype='object') \n",
      "\n",
      "month                   object\n",
      "town                    object\n",
      "flat_type               object\n",
      "block                   object\n",
      "street_name             object\n",
      "storey_range            object\n",
      "floor_area_sqm         float64\n",
      "flat_model              object\n",
      "lease_commence_date      int64\n",
      "resale_price           float64\n",
      "dtype: object \n",
      "\n",
      "./data/transaction\\resale-flat-prices-based-on-registration-date-from-jan-2015-to-dec-2016.csv has  11 columns\n",
      "\n",
      "Index(['month', 'town', 'flat_type', 'block', 'street_name', 'storey_range',\n",
      "       'floor_area_sqm', 'flat_model', 'lease_commence_date',\n",
      "       'remaining_lease', 'resale_price'],\n",
      "      dtype='object') \n",
      "\n",
      "month                   object\n",
      "town                    object\n",
      "flat_type               object\n",
      "block                   object\n",
      "street_name             object\n",
      "storey_range            object\n",
      "floor_area_sqm         float64\n",
      "flat_model              object\n",
      "lease_commence_date      int64\n",
      "remaining_lease          int64\n",
      "resale_price           float64\n",
      "dtype: object \n",
      "\n",
      "./data/transaction\\resale-flat-prices-based-on-registration-date-from-jan-2017-onwards.csv has  11 columns\n",
      "\n",
      "Index(['month', 'town', 'flat_type', 'block', 'street_name', 'storey_range',\n",
      "       'floor_area_sqm', 'flat_model', 'lease_commence_date',\n",
      "       'remaining_lease', 'resale_price'],\n",
      "      dtype='object') \n",
      "\n",
      "month                   object\n",
      "town                    object\n",
      "flat_type               object\n",
      "block                   object\n",
      "street_name             object\n",
      "storey_range            object\n",
      "floor_area_sqm         float64\n",
      "flat_model              object\n",
      "lease_commence_date      int64\n",
      "remaining_lease         object\n",
      "resale_price           float64\n",
      "dtype: object \n",
      "\n",
      "./data/transaction\\resale-flat-prices-based-on-registration-date-from-mar-2012-to-dec-2014.csv has  10 columns\n",
      "\n",
      "Index(['month', 'town', 'flat_type', 'block', 'street_name', 'storey_range',\n",
      "       'floor_area_sqm', 'flat_model', 'lease_commence_date', 'resale_price'],\n",
      "      dtype='object') \n",
      "\n",
      "month                   object\n",
      "town                    object\n",
      "flat_type               object\n",
      "block                   object\n",
      "street_name             object\n",
      "storey_range            object\n",
      "floor_area_sqm         float64\n",
      "flat_model              object\n",
      "lease_commence_date      int64\n",
      "resale_price           float64\n",
      "dtype: object \n",
      "\n"
     ]
    }
   ],
   "source": [
    "for files in glob.glob(\"./data/transaction/*.csv\"):\n",
    "        df = pd.read_csv(files)\n",
    "        print (files, 'has ', len(df.columns), 'columns\\n')\n",
    "        print (df.columns, '\\n')\n",
    "        print (df.dtypes, '\\n')"
   ]
  },
  {
   "cell_type": "markdown",
   "id": "renewable-observation",
   "metadata": {},
   "source": [
    "Checking if pre-processed dataset is already available, else it will do the necessary merging of dataset"
   ]
  },
  {
   "cell_type": "code",
   "execution_count": 3,
   "id": "optimum-county",
   "metadata": {},
   "outputs": [
    {
     "name": "stdout",
     "output_type": "stream",
     "text": [
      "./data/transaction\\resale-flat-prices-based-on-approval-date-1990-1999.csv has  10 columns\n",
      "\n",
      "Index(['month', 'town', 'flat_type', 'block', 'street_name', 'storey_range',\n",
      "       'floor_area_sqm', 'flat_model', 'lease_commence_date', 'resale_price'],\n",
      "      dtype='object') \n",
      "\n",
      "month                   object\n",
      "town                    object\n",
      "flat_type               object\n",
      "block                   object\n",
      "street_name             object\n",
      "storey_range            object\n",
      "floor_area_sqm         float64\n",
      "flat_model              object\n",
      "lease_commence_date      int64\n",
      "resale_price             int64\n",
      "dtype: object \n",
      "\n",
      "./data/transaction\\resale-flat-prices-based-on-approval-date-2000-feb-2012.csv has  10 columns\n",
      "\n",
      "Index(['month', 'town', 'flat_type', 'block', 'street_name', 'storey_range',\n",
      "       'floor_area_sqm', 'flat_model', 'lease_commence_date', 'resale_price'],\n",
      "      dtype='object') \n",
      "\n",
      "month                   object\n",
      "town                    object\n",
      "flat_type               object\n",
      "block                   object\n",
      "street_name             object\n",
      "storey_range            object\n",
      "floor_area_sqm         float64\n",
      "flat_model              object\n",
      "lease_commence_date      int64\n",
      "resale_price           float64\n",
      "dtype: object \n",
      "\n",
      "./data/transaction\\resale-flat-prices-based-on-registration-date-from-jan-2015-to-dec-2016.csv has  11 columns\n",
      "\n",
      "Index(['month', 'town', 'flat_type', 'block', 'street_name', 'storey_range',\n",
      "       'floor_area_sqm', 'flat_model', 'lease_commence_date',\n",
      "       'remaining_lease', 'resale_price'],\n",
      "      dtype='object') \n",
      "\n",
      "month                   object\n",
      "town                    object\n",
      "flat_type               object\n",
      "block                   object\n",
      "street_name             object\n",
      "storey_range            object\n",
      "floor_area_sqm         float64\n",
      "flat_model              object\n",
      "lease_commence_date      int64\n",
      "remaining_lease          int64\n",
      "resale_price           float64\n",
      "dtype: object \n",
      "\n",
      "./data/transaction\\resale-flat-prices-based-on-registration-date-from-jan-2017-onwards.csv has  11 columns\n",
      "\n",
      "Index(['month', 'town', 'flat_type', 'block', 'street_name', 'storey_range',\n",
      "       'floor_area_sqm', 'flat_model', 'lease_commence_date',\n",
      "       'remaining_lease', 'resale_price'],\n",
      "      dtype='object') \n",
      "\n",
      "month                   object\n",
      "town                    object\n",
      "flat_type               object\n",
      "block                   object\n",
      "street_name             object\n",
      "storey_range            object\n",
      "floor_area_sqm         float64\n",
      "flat_model              object\n",
      "lease_commence_date      int64\n",
      "remaining_lease         object\n",
      "resale_price           float64\n",
      "dtype: object \n",
      "\n",
      "./data/transaction\\resale-flat-prices-based-on-registration-date-from-mar-2012-to-dec-2014.csv has  10 columns\n",
      "\n",
      "Index(['month', 'town', 'flat_type', 'block', 'street_name', 'storey_range',\n",
      "       'floor_area_sqm', 'flat_model', 'lease_commence_date', 'resale_price'],\n",
      "      dtype='object') \n",
      "\n",
      "month                   object\n",
      "town                    object\n",
      "flat_type               object\n",
      "block                   object\n",
      "street_name             object\n",
      "storey_range            object\n",
      "floor_area_sqm         float64\n",
      "flat_model              object\n",
      "lease_commence_date      int64\n",
      "resale_price           float64\n",
      "dtype: object \n",
      "\n",
      "Concatenating... ./data/transaction\\resale-flat-prices-based-on-approval-date-1990-1999.csv\n",
      "Concatenating... ./data/transaction\\resale-flat-prices-based-on-approval-date-2000-feb-2012.csv\n",
      "Concatenating... ./data/transaction\\resale-flat-prices-based-on-registration-date-from-jan-2015-to-dec-2016.csv\n",
      "Concatenating... ./data/transaction\\resale-flat-prices-based-on-registration-date-from-jan-2017-onwards.csv\n",
      "Concatenating... ./data/transaction\\resale-flat-prices-based-on-registration-date-from-mar-2012-to-dec-2014.csv\n",
      "Datasets are now concatenated into one dataframe.\n"
     ]
    }
   ],
   "source": [
    "if os.path.exists(\"./data/transaction/dataset_combined.pkl\"):\n",
    "    df = pd.read_pkl(\"./data/transaction/dataset_combined.pkl\")\n",
    "else:\n",
    "    for files in glob.glob(\"./data/transaction/*.csv\"):\n",
    "        df = pd.read_csv(files)\n",
    "        print (files, 'has ', len(df.columns), 'columns\\n')\n",
    "        print (df.columns, '\\n')\n",
    "        print (df.dtypes, '\\n')\n",
    "        \n",
    "    df = pd.DataFrame()\n",
    "    for files in glob.glob(\"./data/transaction/*.csv\"):\n",
    "        print ('Concatenating...', files)\n",
    "        df = pd.concat([df,pd.read_csv(files).iloc[:,:]],axis=0)\n",
    "    print ('Datasets are now concatenated into one dataframe.')"
   ]
  },
  {
   "cell_type": "code",
   "execution_count": 4,
   "id": "stretch-trinidad",
   "metadata": {
    "scrolled": false
   },
   "outputs": [
    {
     "data": {
      "text/html": [
       "<div>\n",
       "<style scoped>\n",
       "    .dataframe tbody tr th:only-of-type {\n",
       "        vertical-align: middle;\n",
       "    }\n",
       "\n",
       "    .dataframe tbody tr th {\n",
       "        vertical-align: top;\n",
       "    }\n",
       "\n",
       "    .dataframe thead th {\n",
       "        text-align: right;\n",
       "    }\n",
       "</style>\n",
       "<table border=\"1\" class=\"dataframe\">\n",
       "  <thead>\n",
       "    <tr style=\"text-align: right;\">\n",
       "      <th></th>\n",
       "      <th>month</th>\n",
       "      <th>town</th>\n",
       "      <th>flat_type</th>\n",
       "      <th>block</th>\n",
       "      <th>street_name</th>\n",
       "      <th>storey_range</th>\n",
       "      <th>floor_area_sqm</th>\n",
       "      <th>flat_model</th>\n",
       "      <th>lease_commence_date</th>\n",
       "      <th>resale_price</th>\n",
       "      <th>remaining_lease</th>\n",
       "    </tr>\n",
       "  </thead>\n",
       "  <tbody>\n",
       "    <tr>\n",
       "      <th>0</th>\n",
       "      <td>1990-01</td>\n",
       "      <td>ANG MO KIO</td>\n",
       "      <td>1 ROOM</td>\n",
       "      <td>309</td>\n",
       "      <td>ANG MO KIO AVE 1</td>\n",
       "      <td>10 TO 12</td>\n",
       "      <td>31.0</td>\n",
       "      <td>IMPROVED</td>\n",
       "      <td>1977</td>\n",
       "      <td>9000.0</td>\n",
       "      <td>NaN</td>\n",
       "    </tr>\n",
       "  </tbody>\n",
       "</table>\n",
       "</div>"
      ],
      "text/plain": [
       "     month        town flat_type block       street_name storey_range  \\\n",
       "0  1990-01  ANG MO KIO    1 ROOM   309  ANG MO KIO AVE 1     10 TO 12   \n",
       "\n",
       "   floor_area_sqm flat_model  lease_commence_date  resale_price  \\\n",
       "0            31.0   IMPROVED                 1977        9000.0   \n",
       "\n",
       "  remaining_lease  \n",
       "0             NaN  "
      ]
     },
     "execution_count": 4,
     "metadata": {},
     "output_type": "execute_result"
    }
   ],
   "source": [
    "df.head(1)"
   ]
  },
  {
   "cell_type": "code",
   "execution_count": 5,
   "id": "refined-tribute",
   "metadata": {},
   "outputs": [
    {
     "data": {
      "text/plain": [
       "(843541, 11)"
      ]
     },
     "execution_count": 5,
     "metadata": {},
     "output_type": "execute_result"
    }
   ],
   "source": [
    "df.shape"
   ]
  },
  {
   "cell_type": "code",
   "execution_count": 6,
   "id": "square-patrick",
   "metadata": {
    "scrolled": false
   },
   "outputs": [
    {
     "data": {
      "text/plain": [
       "month                       0\n",
       "town                        0\n",
       "flat_type                   0\n",
       "block                       0\n",
       "street_name                 0\n",
       "storey_range                0\n",
       "floor_area_sqm              0\n",
       "flat_model                  0\n",
       "lease_commence_date         0\n",
       "resale_price                0\n",
       "remaining_lease        709054\n",
       "dtype: int64"
      ]
     },
     "execution_count": 6,
     "metadata": {},
     "output_type": "execute_result"
    }
   ],
   "source": [
    "df.isnull().sum()"
   ]
  },
  {
   "cell_type": "markdown",
   "id": "norwegian-address",
   "metadata": {},
   "source": [
    "Noticed that we do have many missing data for `remaining_lease`, as such, we will fill the missing value by subtracting `lease_commence_date` from `month` of HDB resale transaction it is recorded to get the remaining lease left. In addition, a typical new HDB leasehold is 99 years, and hence, it will be used in the subtraction to get `remaining lease`."
   ]
  },
  {
   "cell_type": "code",
   "execution_count": 7,
   "id": "processed-german",
   "metadata": {},
   "outputs": [],
   "source": [
    "df['remaining_lease'] = 99 - ((df['month'].apply(lambda x: x.split('-')[0])).astype(int)-df['lease_commence_date'])"
   ]
  },
  {
   "cell_type": "markdown",
   "id": "western-worship",
   "metadata": {},
   "source": [
    "Combining the HDB `block` number and `street name` would give us the full address of the HDB unit which will be important for geocoding in the subsequent section"
   ]
  },
  {
   "cell_type": "code",
   "execution_count": 8,
   "id": "adapted-dietary",
   "metadata": {},
   "outputs": [],
   "source": [
    "df[\"full_address\"] = df[\"block\"].map(str) + ' ' + df[\"street_name\"].map(str)"
   ]
  },
  {
   "cell_type": "code",
   "execution_count": 9,
   "id": "spectacular-testimony",
   "metadata": {},
   "outputs": [
    {
     "data": {
      "text/html": [
       "<div>\n",
       "<style scoped>\n",
       "    .dataframe tbody tr th:only-of-type {\n",
       "        vertical-align: middle;\n",
       "    }\n",
       "\n",
       "    .dataframe tbody tr th {\n",
       "        vertical-align: top;\n",
       "    }\n",
       "\n",
       "    .dataframe thead th {\n",
       "        text-align: right;\n",
       "    }\n",
       "</style>\n",
       "<table border=\"1\" class=\"dataframe\">\n",
       "  <thead>\n",
       "    <tr style=\"text-align: right;\">\n",
       "      <th></th>\n",
       "      <th>month</th>\n",
       "      <th>town</th>\n",
       "      <th>flat_type</th>\n",
       "      <th>block</th>\n",
       "      <th>street_name</th>\n",
       "      <th>storey_range</th>\n",
       "      <th>floor_area_sqm</th>\n",
       "      <th>flat_model</th>\n",
       "      <th>lease_commence_date</th>\n",
       "      <th>resale_price</th>\n",
       "      <th>remaining_lease</th>\n",
       "      <th>full_address</th>\n",
       "    </tr>\n",
       "  </thead>\n",
       "  <tbody>\n",
       "    <tr>\n",
       "      <th>0</th>\n",
       "      <td>1990-01</td>\n",
       "      <td>ANG MO KIO</td>\n",
       "      <td>1 ROOM</td>\n",
       "      <td>309</td>\n",
       "      <td>ANG MO KIO AVE 1</td>\n",
       "      <td>10 TO 12</td>\n",
       "      <td>31.0</td>\n",
       "      <td>IMPROVED</td>\n",
       "      <td>1977</td>\n",
       "      <td>9000.0</td>\n",
       "      <td>86</td>\n",
       "      <td>309 ANG MO KIO AVE 1</td>\n",
       "    </tr>\n",
       "  </tbody>\n",
       "</table>\n",
       "</div>"
      ],
      "text/plain": [
       "     month        town flat_type block       street_name storey_range  \\\n",
       "0  1990-01  ANG MO KIO    1 ROOM   309  ANG MO KIO AVE 1     10 TO 12   \n",
       "\n",
       "   floor_area_sqm flat_model  lease_commence_date  resale_price  \\\n",
       "0            31.0   IMPROVED                 1977        9000.0   \n",
       "\n",
       "   remaining_lease          full_address  \n",
       "0               86  309 ANG MO KIO AVE 1  "
      ]
     },
     "execution_count": 9,
     "metadata": {},
     "output_type": "execute_result"
    }
   ],
   "source": [
    "df.head(1)"
   ]
  },
  {
   "cell_type": "code",
   "execution_count": 10,
   "id": "honest-diana",
   "metadata": {
    "scrolled": true
   },
   "outputs": [
    {
     "data": {
      "text/plain": [
       "count    8.435410e+05\n",
       "mean     2.974412e+05\n",
       "std      1.514433e+05\n",
       "min      5.000000e+03\n",
       "25%      1.830000e+05\n",
       "50%      2.780000e+05\n",
       "75%      3.880000e+05\n",
       "max      1.258000e+06\n",
       "Name: resale_price, dtype: float64"
      ]
     },
     "execution_count": 10,
     "metadata": {},
     "output_type": "execute_result"
    }
   ],
   "source": [
    "df['resale_price'].describe()"
   ]
  },
  {
   "cell_type": "markdown",
   "id": "native-spanking",
   "metadata": {},
   "source": [
    "HDB sold currently are typically more expensive compared to earlier days (1990s), likely due to inflation and possibly supply/demand issues. Thus, normalising the HDB resale price is required to ensure a representative regression model. HDB resale price index would be used in normalising the `resale_price` to reflect present HDB prices (1Q2021)"
   ]
  },
  {
   "cell_type": "code",
   "execution_count": 11,
   "id": "loaded-remove",
   "metadata": {},
   "outputs": [],
   "source": [
    "resale_index = pd.read_csv(\"./data/resale_index/housing-and-development-board-resale-price-index-1q2009-100-quarterly.csv\")"
   ]
  },
  {
   "cell_type": "code",
   "execution_count": 12,
   "id": "educational-arizona",
   "metadata": {},
   "outputs": [
    {
     "data": {
      "text/plain": [
       "quarter     object\n",
       "index      float64\n",
       "dtype: object"
      ]
     },
     "execution_count": 12,
     "metadata": {},
     "output_type": "execute_result"
    }
   ],
   "source": [
    "resale_index.dtypes"
   ]
  },
  {
   "cell_type": "code",
   "execution_count": 13,
   "id": "coordinated-michael",
   "metadata": {},
   "outputs": [],
   "source": [
    "# a function to map year/month into year/quarter for HDB resale price normalisation\n",
    "\n",
    "def quarter(x):\n",
    "    year = int(x.split('-')[0])\n",
    "    month = int(x.split('-')[1])\n",
    "    if month <= 3:\n",
    "        month = 'Q1'\n",
    "    elif month <= 6:\n",
    "        month = 'Q2'\n",
    "    elif month <= 9:\n",
    "        month = 'Q3'\n",
    "    else:\n",
    "        month = 'Q3'\n",
    "    return (str(year) + '-' + str(month))\n",
    "\n",
    "df['quarter'] = df['month'].apply(quarter)"
   ]
  },
  {
   "cell_type": "code",
   "execution_count": 14,
   "id": "wrong-world",
   "metadata": {
    "scrolled": true
   },
   "outputs": [],
   "source": [
    "#Combining  HDB resale price data and HDB resale index\n",
    "df = pd.merge(df, resale_index, on='quarter')"
   ]
  },
  {
   "cell_type": "code",
   "execution_count": 15,
   "id": "measured-confidentiality",
   "metadata": {},
   "outputs": [
    {
     "data": {
      "text/html": [
       "<div>\n",
       "<style scoped>\n",
       "    .dataframe tbody tr th:only-of-type {\n",
       "        vertical-align: middle;\n",
       "    }\n",
       "\n",
       "    .dataframe tbody tr th {\n",
       "        vertical-align: top;\n",
       "    }\n",
       "\n",
       "    .dataframe thead th {\n",
       "        text-align: right;\n",
       "    }\n",
       "</style>\n",
       "<table border=\"1\" class=\"dataframe\">\n",
       "  <thead>\n",
       "    <tr style=\"text-align: right;\">\n",
       "      <th></th>\n",
       "      <th>quarter</th>\n",
       "      <th>index</th>\n",
       "    </tr>\n",
       "  </thead>\n",
       "  <tbody>\n",
       "    <tr>\n",
       "      <th>124</th>\n",
       "      <td>2021-Q1</td>\n",
       "      <td>142.2</td>\n",
       "    </tr>\n",
       "  </tbody>\n",
       "</table>\n",
       "</div>"
      ],
      "text/plain": [
       "     quarter  index\n",
       "124  2021-Q1  142.2"
      ]
     },
     "execution_count": 15,
     "metadata": {},
     "output_type": "execute_result"
    }
   ],
   "source": [
    "resale_index.tail(1)"
   ]
  },
  {
   "cell_type": "markdown",
   "id": "oriental-prerequisite",
   "metadata": {},
   "source": [
    "Normalising HDB resale price with HDB resale index, making HDB prices sold in the past more representative."
   ]
  },
  {
   "cell_type": "code",
   "execution_count": 16,
   "id": "naval-combat",
   "metadata": {},
   "outputs": [],
   "source": [
    "df['resale_price_normalised'] = df['resale_price']*142.2/df['index']"
   ]
  },
  {
   "cell_type": "code",
   "execution_count": 17,
   "id": "solid-lodging",
   "metadata": {},
   "outputs": [
    {
     "data": {
      "text/html": [
       "<div>\n",
       "<style scoped>\n",
       "    .dataframe tbody tr th:only-of-type {\n",
       "        vertical-align: middle;\n",
       "    }\n",
       "\n",
       "    .dataframe tbody tr th {\n",
       "        vertical-align: top;\n",
       "    }\n",
       "\n",
       "    .dataframe thead th {\n",
       "        text-align: right;\n",
       "    }\n",
       "</style>\n",
       "<table border=\"1\" class=\"dataframe\">\n",
       "  <thead>\n",
       "    <tr style=\"text-align: right;\">\n",
       "      <th></th>\n",
       "      <th>month</th>\n",
       "      <th>town</th>\n",
       "      <th>flat_type</th>\n",
       "      <th>block</th>\n",
       "      <th>street_name</th>\n",
       "      <th>storey_range</th>\n",
       "      <th>floor_area_sqm</th>\n",
       "      <th>flat_model</th>\n",
       "      <th>lease_commence_date</th>\n",
       "      <th>resale_price</th>\n",
       "      <th>remaining_lease</th>\n",
       "      <th>full_address</th>\n",
       "      <th>quarter</th>\n",
       "      <th>index</th>\n",
       "      <th>resale_price_normalised</th>\n",
       "    </tr>\n",
       "  </thead>\n",
       "  <tbody>\n",
       "    <tr>\n",
       "      <th>0</th>\n",
       "      <td>1990-01</td>\n",
       "      <td>ANG MO KIO</td>\n",
       "      <td>1 ROOM</td>\n",
       "      <td>309</td>\n",
       "      <td>ANG MO KIO AVE 1</td>\n",
       "      <td>10 TO 12</td>\n",
       "      <td>31.0</td>\n",
       "      <td>IMPROVED</td>\n",
       "      <td>1977</td>\n",
       "      <td>9000.0</td>\n",
       "      <td>86</td>\n",
       "      <td>309 ANG MO KIO AVE 1</td>\n",
       "      <td>1990-Q1</td>\n",
       "      <td>24.3</td>\n",
       "      <td>52666.666667</td>\n",
       "    </tr>\n",
       "  </tbody>\n",
       "</table>\n",
       "</div>"
      ],
      "text/plain": [
       "     month        town flat_type block       street_name storey_range  \\\n",
       "0  1990-01  ANG MO KIO    1 ROOM   309  ANG MO KIO AVE 1     10 TO 12   \n",
       "\n",
       "   floor_area_sqm flat_model  lease_commence_date  resale_price  \\\n",
       "0            31.0   IMPROVED                 1977        9000.0   \n",
       "\n",
       "   remaining_lease          full_address  quarter  index  \\\n",
       "0               86  309 ANG MO KIO AVE 1  1990-Q1   24.3   \n",
       "\n",
       "   resale_price_normalised  \n",
       "0             52666.666667  "
      ]
     },
     "execution_count": 17,
     "metadata": {},
     "output_type": "execute_result"
    }
   ],
   "source": [
    "df.head(1)"
   ]
  },
  {
   "cell_type": "code",
   "execution_count": 18,
   "id": "dependent-buffer",
   "metadata": {
    "scrolled": false
   },
   "outputs": [
    {
     "data": {
      "text/plain": [
       "array(['10 TO 12', '04 TO 06', '07 TO 09', '01 TO 03', '13 TO 15',\n",
       "       '19 TO 21', '16 TO 18', '25 TO 27', '22 TO 24', '28 TO 30',\n",
       "       '31 TO 33', '40 TO 42', '37 TO 39', '34 TO 36', '06 TO 10',\n",
       "       '01 TO 05', '11 TO 15', '16 TO 20', '21 TO 25', '26 TO 30',\n",
       "       '36 TO 40', '46 TO 48', '43 TO 45', '49 TO 51', '31 TO 35'],\n",
       "      dtype=object)"
      ]
     },
     "execution_count": 18,
     "metadata": {},
     "output_type": "execute_result"
    }
   ],
   "source": [
    "df['storey_range'].unique()"
   ]
  },
  {
   "cell_type": "markdown",
   "id": "exceptional-bhutan",
   "metadata": {},
   "source": [
    "Changing `storey_range` into lesser catergorical data of 'low floor', 'mid floor' and 'high floor' and 'very high floor'.\n",
    "- low floor: 01 to 05\n",
    "- mid floor: 07 to 10\n",
    "- high floor: 10 to 20\n",
    "- very high floor: >=21\n"
   ]
  },
  {
   "cell_type": "code",
   "execution_count": 19,
   "id": "narrative-deviation",
   "metadata": {},
   "outputs": [],
   "source": [
    "df['storey_range'] = df['storey_range'].str.replace('10 TO 12', 'High Floor') \\\n",
    ".str.replace('04 TO 06', 'Low Floor') \\\n",
    ".str.replace('07 TO 09', 'Mid Floor') \\\n",
    ".str.replace('01 TO 03', 'Low Floor') \\\n",
    ".str.replace('13 TO 15', 'High Floor') \\\n",
    ".str.replace('19 TO 21', 'High Floor') \\\n",
    ".str.replace('16 TO 18', 'High Floor') \\\n",
    ".str.replace('25 TO 27', 'Very High Floor') \\\n",
    ".str.replace('22 TO 24', 'Very High Floor') \\\n",
    ".str.replace('28 TO 30', 'Very High Floor') \\\n",
    ".str.replace('31 TO 33', 'Very High Floor') \\\n",
    ".str.replace('31 TO 35', 'Very High Floor') \\\n",
    ".str.replace('40 TO 42', 'Very High Floor') \\\n",
    ".str.replace('37 TO 39', 'Very High Floor') \\\n",
    ".str.replace('34 TO 36', 'Very High Floor') \\\n",
    ".str.replace('06 TO 10', 'Mid Floor') \\\n",
    ".str.replace('01 TO 05', 'Low Floor') \\\n",
    ".str.replace('11 TO 15', 'High Floor') \\\n",
    ".str.replace('16 TO 20', 'High Floor') \\\n",
    ".str.replace('21 TO 25', 'Very High Floor') \\\n",
    ".str.replace('26 TO 30', 'Very High Floor') \\\n",
    ".str.replace('36 TO 40', 'Very High Floor') \\\n",
    ".str.replace('46 TO 48', 'Very High Floor') \\\n",
    ".str.replace('43 TO 45', 'Very High Floor') \\\n",
    ".str.replace('49 TO 51', 'Very High Floor')"
   ]
  },
  {
   "cell_type": "code",
   "execution_count": 20,
   "id": "postal-listing",
   "metadata": {},
   "outputs": [
    {
     "data": {
      "text/plain": [
       "array(['1 ROOM', '3 ROOM', '4 ROOM', '5 ROOM', '2 ROOM', 'EXECUTIVE',\n",
       "       'MULTI GENERATION', 'MULTI-GENERATION'], dtype=object)"
      ]
     },
     "execution_count": 20,
     "metadata": {},
     "output_type": "execute_result"
    }
   ],
   "source": [
    "df['flat_type'].unique()"
   ]
  },
  {
   "cell_type": "code",
   "execution_count": 21,
   "id": "exceptional-poultry",
   "metadata": {},
   "outputs": [],
   "source": [
    "df['flat_type'] = df['flat_type'].str.replace('MULTI-GENERATION', 'MULTI GENERATION')"
   ]
  },
  {
   "cell_type": "markdown",
   "id": "roman-psychology",
   "metadata": {},
   "source": [
    "By intuition, `flat model` will play apart in determining the HDB resale price as certain model of flat such as mansionette is rarer than a typical appartment. However, in this analysis, due to a lack of information, this feature will be dropped."
   ]
  },
  {
   "cell_type": "code",
   "execution_count": 22,
   "id": "still-symbol",
   "metadata": {},
   "outputs": [],
   "source": [
    "df = df.drop(['flat_model'], axis=1)"
   ]
  },
  {
   "cell_type": "code",
   "execution_count": 23,
   "id": "acute-straight",
   "metadata": {},
   "outputs": [],
   "source": [
    "df['year'] = df['month'].apply(lambda x: x.split('-')[0])\n",
    "df['month'] = df['month'].apply(lambda x: x.split('-')[1])"
   ]
  },
  {
   "cell_type": "markdown",
   "id": "incident-portable",
   "metadata": {},
   "source": [
    "Since HDB sizes are not all the same, it would be crucial for us to compare prices per squared meter of HDB to allow better understanding what are the factors affecting HDB resale prices."
   ]
  },
  {
   "cell_type": "code",
   "execution_count": 24,
   "id": "yellow-riding",
   "metadata": {},
   "outputs": [],
   "source": [
    "df['price_per_sqm'] = df['resale_price_normalised']/df['floor_area_sqm']"
   ]
  },
  {
   "cell_type": "code",
   "execution_count": 25,
   "id": "prescribed-knowing",
   "metadata": {},
   "outputs": [],
   "source": [
    "df= df.iloc[:,[-2,0,-5,1,2,3,4,-6,5,6,-1,7,9,-4,8,-3]]"
   ]
  },
  {
   "cell_type": "code",
   "execution_count": 26,
   "id": "removed-mailman",
   "metadata": {},
   "outputs": [
    {
     "data": {
      "text/html": [
       "<div>\n",
       "<style scoped>\n",
       "    .dataframe tbody tr th:only-of-type {\n",
       "        vertical-align: middle;\n",
       "    }\n",
       "\n",
       "    .dataframe tbody tr th {\n",
       "        vertical-align: top;\n",
       "    }\n",
       "\n",
       "    .dataframe thead th {\n",
       "        text-align: right;\n",
       "    }\n",
       "</style>\n",
       "<table border=\"1\" class=\"dataframe\">\n",
       "  <thead>\n",
       "    <tr style=\"text-align: right;\">\n",
       "      <th></th>\n",
       "      <th>year</th>\n",
       "      <th>month</th>\n",
       "      <th>quarter</th>\n",
       "      <th>town</th>\n",
       "      <th>flat_type</th>\n",
       "      <th>block</th>\n",
       "      <th>street_name</th>\n",
       "      <th>full_address</th>\n",
       "      <th>storey_range</th>\n",
       "      <th>floor_area_sqm</th>\n",
       "      <th>price_per_sqm</th>\n",
       "      <th>lease_commence_date</th>\n",
       "      <th>remaining_lease</th>\n",
       "      <th>index</th>\n",
       "      <th>resale_price</th>\n",
       "      <th>resale_price_normalised</th>\n",
       "    </tr>\n",
       "  </thead>\n",
       "  <tbody>\n",
       "    <tr>\n",
       "      <th>0</th>\n",
       "      <td>1990</td>\n",
       "      <td>01</td>\n",
       "      <td>1990-Q1</td>\n",
       "      <td>ANG MO KIO</td>\n",
       "      <td>1 ROOM</td>\n",
       "      <td>309</td>\n",
       "      <td>ANG MO KIO AVE 1</td>\n",
       "      <td>309 ANG MO KIO AVE 1</td>\n",
       "      <td>High Floor</td>\n",
       "      <td>31.0</td>\n",
       "      <td>1698.924731</td>\n",
       "      <td>1977</td>\n",
       "      <td>86</td>\n",
       "      <td>24.3</td>\n",
       "      <td>9000.0</td>\n",
       "      <td>52666.666667</td>\n",
       "    </tr>\n",
       "  </tbody>\n",
       "</table>\n",
       "</div>"
      ],
      "text/plain": [
       "   year month  quarter        town flat_type block       street_name  \\\n",
       "0  1990    01  1990-Q1  ANG MO KIO    1 ROOM   309  ANG MO KIO AVE 1   \n",
       "\n",
       "           full_address storey_range  floor_area_sqm  price_per_sqm  \\\n",
       "0  309 ANG MO KIO AVE 1   High Floor            31.0    1698.924731   \n",
       "\n",
       "   lease_commence_date  remaining_lease  index  resale_price  \\\n",
       "0                 1977               86   24.3        9000.0   \n",
       "\n",
       "   resale_price_normalised  \n",
       "0             52666.666667  "
      ]
     },
     "execution_count": 26,
     "metadata": {},
     "output_type": "execute_result"
    }
   ],
   "source": [
    "df.head(1)"
   ]
  },
  {
   "cell_type": "code",
   "execution_count": 29,
   "id": "known-banks",
   "metadata": {},
   "outputs": [],
   "source": [
    "# saving pre-processed data\n",
    "if os.path.exists(\"./data/transaction/dataset_combined.pkl\"):\n",
    "    pass\n",
    "else:\n",
    "    df.to_pickle(os.path.join(\"./data/transaction/\",r\"dataset_combined.pkl\"))"
   ]
  },
  {
   "cell_type": "markdown",
   "id": "nonprofit-captain",
   "metadata": {},
   "source": [
    "## Feature Engineering"
   ]
  },
  {
   "cell_type": "markdown",
   "id": "engaging-election",
   "metadata": {},
   "source": [
    "Intuitively, HDB nearer to ammenities is more convenient will have fetch will higher price. Thus, we will be exploring HDB distance to nearest school/MRT/CBD area to find out if there is any correlation."
   ]
  },
  {
   "cell_type": "markdown",
   "id": "yellow-tissue",
   "metadata": {},
   "source": [
    "### HDB Address Geocoding"
   ]
  },
  {
   "cell_type": "markdown",
   "id": "female-tampa",
   "metadata": {},
   "source": [
    "Next, we generate all unique addresses in the dataset for geocoding using OneMap API. Generating the latitude and longitude of each HDB address will allow us to find the distance from HDB to the point of interest we wish to calculate later."
   ]
  },
  {
   "cell_type": "code",
   "execution_count": 30,
   "id": "excellent-forum",
   "metadata": {},
   "outputs": [
    {
     "data": {
      "text/plain": [
       "9381"
      ]
     },
     "execution_count": 30,
     "metadata": {},
     "output_type": "execute_result"
    }
   ],
   "source": [
    "HDB_address_list = df[\"full_address\"].unique().tolist()\n",
    "len(HDB_address_list)"
   ]
  },
  {
   "cell_type": "markdown",
   "id": "regular-extra",
   "metadata": {},
   "source": [
    "Simply put, geocoding is converting addresses to longitudes and latitudes.\n",
    "\n",
    "The script will loop through all addresses in `HDB_address_list` and convert it into a query form. Then it calls the OneMap API. The API provides searching of address data for a given search value. It returns search results with both latitude, longitude and x, y coordinates of the search address."
   ]
  },
  {
   "cell_type": "code",
   "execution_count": 31,
   "id": "sublime-proportion",
   "metadata": {},
   "outputs": [
    {
     "name": "stdout",
     "output_type": "stream",
     "text": [
      "Wall time: 15min 39s\n"
     ]
    }
   ],
   "source": [
    "%%time\n",
    "\n",
    "HDB_lat = []\n",
    "HDB_long = []\n",
    "BLK_NO = []\n",
    "ROAD_NAME = []\n",
    "POSTAL_CODE = []\n",
    "full_address = []\n",
    "\n",
    "for i in range(0, len(HDB_address_list)):\n",
    "    query_address = HDB_address_list[i]\n",
    "    query_string = 'https://developers.onemap.sg/commonapi/search?searchVal='+str(query_address)+'&returnGeom=Y&getAddrDetails=Y'\n",
    "    resp = requests.get(query_string)\n",
    "\n",
    "    data_HDB=json.loads(resp.content)\n",
    "    \n",
    "    if data_HDB['found'] != 0:\n",
    "        HDB_lat.append(data_HDB[\"results\"][0][\"LATITUDE\"])\n",
    "        HDB_long.append(data_HDB[\"results\"][0][\"LONGITUDE\"])\n",
    "        BLK_NO.append(data_HDB[\"results\"][0][\"BLK_NO\"])\n",
    "        ROAD_NAME.append(data_HDB[\"results\"][0][\"ROAD_NAME\"])\n",
    "        POSTAL_CODE.append(data_HDB[\"results\"][0][\"POSTAL\"])\n",
    "        full_address.append(query_address)\n",
    "        #print (str(query_address) + \" ,Lat: \" + data_HDB['results'][0]['LATITUDE'] + \" Long: \" + data_HDB['results'][0]['LONGITUDE'])\n",
    "    else:\n",
    "        pass"
   ]
  },
  {
   "cell_type": "code",
   "execution_count": 32,
   "id": "mounted-destruction",
   "metadata": {},
   "outputs": [],
   "source": [
    "HDB_location_df = pd.DataFrame({\n",
    "    'full_address': full_address,\n",
    "    'Latitude': HDB_lat,\n",
    "    'Longitude': HDB_long,\n",
    "    'blk_no': BLK_NO,\n",
    "    'road_name': ROAD_NAME,\n",
    "    'postal_code': POSTAL_CODE})"
   ]
  },
  {
   "cell_type": "code",
   "execution_count": 33,
   "id": "reported-importance",
   "metadata": {},
   "outputs": [
    {
     "data": {
      "text/html": [
       "<div>\n",
       "<style scoped>\n",
       "    .dataframe tbody tr th:only-of-type {\n",
       "        vertical-align: middle;\n",
       "    }\n",
       "\n",
       "    .dataframe tbody tr th {\n",
       "        vertical-align: top;\n",
       "    }\n",
       "\n",
       "    .dataframe thead th {\n",
       "        text-align: right;\n",
       "    }\n",
       "</style>\n",
       "<table border=\"1\" class=\"dataframe\">\n",
       "  <thead>\n",
       "    <tr style=\"text-align: right;\">\n",
       "      <th></th>\n",
       "      <th>full_address</th>\n",
       "      <th>Latitude</th>\n",
       "      <th>Longitude</th>\n",
       "      <th>blk_no</th>\n",
       "      <th>road_name</th>\n",
       "      <th>postal_code</th>\n",
       "    </tr>\n",
       "  </thead>\n",
       "  <tbody>\n",
       "    <tr>\n",
       "      <th>0</th>\n",
       "      <td>216 ANG MO KIO AVE 1</td>\n",
       "      <td>1.36619678831053</td>\n",
       "      <td>103.841505011903</td>\n",
       "      <td>216</td>\n",
       "      <td>ANG MO KIO AVENUE 1</td>\n",
       "      <td>560216</td>\n",
       "    </tr>\n",
       "  </tbody>\n",
       "</table>\n",
       "</div>"
      ],
      "text/plain": [
       "           full_address          Latitude         Longitude blk_no  \\\n",
       "0  216 ANG MO KIO AVE 1  1.36619678831053  103.841505011903    216   \n",
       "\n",
       "             road_name postal_code  \n",
       "0  ANG MO KIO AVENUE 1      560216  "
      ]
     },
     "execution_count": 33,
     "metadata": {},
     "output_type": "execute_result"
    }
   ],
   "source": [
    "HDB_location_df.head(1)"
   ]
  },
  {
   "cell_type": "code",
   "execution_count": 34,
   "id": "ordinary-plain",
   "metadata": {},
   "outputs": [],
   "source": [
    "# Concatenate latitude and longitude columns into one column\n",
    "HDB_location_df[\"lat_long\"] = HDB_location_df[\"Latitude\"] +' '+ HDB_location_df[\"Longitude\"]\n",
    "# Convert lat_long column to tuples\n",
    "HDB_location_df[\"lat_long\"] = HDB_location_df[\"lat_long\"].apply(lambda x: tuple(x.split(' ')))"
   ]
  },
  {
   "cell_type": "code",
   "execution_count": 224,
   "id": "western-doubt",
   "metadata": {
    "scrolled": true
   },
   "outputs": [
    {
     "data": {
      "text/plain": [
       "(9247, 7)"
      ]
     },
     "execution_count": 224,
     "metadata": {},
     "output_type": "execute_result"
    }
   ],
   "source": [
    "HDB_location_df.shape"
   ]
  },
  {
   "cell_type": "code",
   "execution_count": 223,
   "id": "unable-superintendent",
   "metadata": {},
   "outputs": [],
   "source": [
    "HDB_location_df = pd.read_pickle(\"data/HDB_location_df.pkl\")"
   ]
  },
  {
   "cell_type": "code",
   "execution_count": 222,
   "id": "falling-brass",
   "metadata": {},
   "outputs": [],
   "source": [
    "# saving/loading data\n",
    "if os.path.exists(\"./data/HDB_location_df.pkl\"):\n",
    "    HDB_location_df = pd.read_pickle(\"data/HDB_location_df.pkl\")\n",
    "else:\n",
    "    HDB_location_df.to_pickle(os.path.join(\"./data/\",r\"HDB_location_df.pkl\"))"
   ]
  },
  {
   "cell_type": "markdown",
   "id": "creative-convertible",
   "metadata": {},
   "source": [
    "### MRT Station Address Geocoding"
   ]
  },
  {
   "cell_type": "markdown",
   "id": "fatty-lesbian",
   "metadata": {},
   "source": [
    "In order to calculate distance between MRT station to HDB apartment coordinates, geocoding has to be done for MRT station list as well."
   ]
  },
  {
   "cell_type": "code",
   "execution_count": 44,
   "id": "sixth-buddy",
   "metadata": {},
   "outputs": [],
   "source": [
    "# MRT station list is from wikipedia\n",
    "MRT_station_df = pd.read_csv(\"./data/mrt/MRT_LRT_STATION.csv\")"
   ]
  },
  {
   "cell_type": "code",
   "execution_count": 45,
   "id": "instant-printing",
   "metadata": {},
   "outputs": [
    {
     "data": {
      "text/html": [
       "<div>\n",
       "<style scoped>\n",
       "    .dataframe tbody tr th:only-of-type {\n",
       "        vertical-align: middle;\n",
       "    }\n",
       "\n",
       "    .dataframe tbody tr th {\n",
       "        vertical-align: top;\n",
       "    }\n",
       "\n",
       "    .dataframe thead th {\n",
       "        text-align: right;\n",
       "    }\n",
       "</style>\n",
       "<table border=\"1\" class=\"dataframe\">\n",
       "  <thead>\n",
       "    <tr style=\"text-align: right;\">\n",
       "      <th></th>\n",
       "      <th>Station</th>\n",
       "    </tr>\n",
       "  </thead>\n",
       "  <tbody>\n",
       "    <tr>\n",
       "      <th>0</th>\n",
       "      <td>Jurong East MRT</td>\n",
       "    </tr>\n",
       "  </tbody>\n",
       "</table>\n",
       "</div>"
      ],
      "text/plain": [
       "           Station\n",
       "0  Jurong East MRT"
      ]
     },
     "execution_count": 45,
     "metadata": {},
     "output_type": "execute_result"
    }
   ],
   "source": [
    "MRT_station_df.head(1)"
   ]
  },
  {
   "cell_type": "code",
   "execution_count": 46,
   "id": "floppy-easter",
   "metadata": {},
   "outputs": [
    {
     "data": {
      "text/plain": [
       "160"
      ]
     },
     "execution_count": 46,
     "metadata": {},
     "output_type": "execute_result"
    }
   ],
   "source": [
    "MRT_station_list = MRT_station_df[\"Station\"].unique().tolist()\n",
    "len(MRT_station_list)"
   ]
  },
  {
   "cell_type": "code",
   "execution_count": 47,
   "id": "stylish-broadcasting",
   "metadata": {},
   "outputs": [
    {
     "name": "stdout",
     "output_type": "stream",
     "text": [
      "Wall time: 26.1 s\n"
     ]
    }
   ],
   "source": [
    "%%time\n",
    "\n",
    "mrt_lat = []\n",
    "mrt_long = []\n",
    "MRT_station = []\n",
    "\n",
    "for i in range(0, len(MRT_station_list)):\n",
    "    query_address = MRT_station_list[i]\n",
    "    query_string = 'https://developers.onemap.sg/commonapi/search?searchVal='+str(query_address)+'&returnGeom=Y&getAddrDetails=Y'\n",
    "    resp = requests.get(query_string)\n",
    "\n",
    "    data_mrt=json.loads(resp.content)\n",
    "    \n",
    "    if data_mrt['found'] != 0:\n",
    "        mrt_lat.append(data_mrt[\"results\"][0][\"LATITUDE\"])\n",
    "        mrt_long.append(data_mrt[\"results\"][0][\"LONGITUDE\"])\n",
    "        MRT_station.append(query_address)\n",
    "\n",
    "        # print (str(query_address)+\",Lat: \"+data_mrt['results'][0]['LATITUDE'] +\" Long: \"+data_mrt['results'][0]['LONGITUDE'])\n",
    "\n",
    "    else:\n",
    "        pass"
   ]
  },
  {
   "cell_type": "code",
   "execution_count": 48,
   "id": "excessive-rolling",
   "metadata": {},
   "outputs": [],
   "source": [
    "MRT_location_df = pd.DataFrame({\n",
    "    'MRT': MRT_station,\n",
    "    'Latitude': mrt_lat,\n",
    "    'Longitude': mrt_long})"
   ]
  },
  {
   "cell_type": "code",
   "execution_count": 49,
   "id": "improving-quantum",
   "metadata": {
    "scrolled": true
   },
   "outputs": [
    {
     "data": {
      "text/html": [
       "<div>\n",
       "<style scoped>\n",
       "    .dataframe tbody tr th:only-of-type {\n",
       "        vertical-align: middle;\n",
       "    }\n",
       "\n",
       "    .dataframe tbody tr th {\n",
       "        vertical-align: top;\n",
       "    }\n",
       "\n",
       "    .dataframe thead th {\n",
       "        text-align: right;\n",
       "    }\n",
       "</style>\n",
       "<table border=\"1\" class=\"dataframe\">\n",
       "  <thead>\n",
       "    <tr style=\"text-align: right;\">\n",
       "      <th></th>\n",
       "      <th>MRT</th>\n",
       "      <th>Latitude</th>\n",
       "      <th>Longitude</th>\n",
       "    </tr>\n",
       "  </thead>\n",
       "  <tbody>\n",
       "    <tr>\n",
       "      <th>0</th>\n",
       "      <td>Jurong East MRT</td>\n",
       "      <td>1.33357652289465</td>\n",
       "      <td>103.742292350324</td>\n",
       "    </tr>\n",
       "  </tbody>\n",
       "</table>\n",
       "</div>"
      ],
      "text/plain": [
       "               MRT          Latitude         Longitude\n",
       "0  Jurong East MRT  1.33357652289465  103.742292350324"
      ]
     },
     "execution_count": 49,
     "metadata": {},
     "output_type": "execute_result"
    }
   ],
   "source": [
    "MRT_location_df.head(1)"
   ]
  },
  {
   "cell_type": "code",
   "execution_count": 50,
   "id": "horizontal-specific",
   "metadata": {},
   "outputs": [],
   "source": [
    "# Concatenate latitude and longitude columns into one column\n",
    "MRT_location_df[\"lat_long\"] = MRT_location_df[\"Latitude\"] +' '+ MRT_location_df[\"Longitude\"]\n",
    "# Convert lat_long column to tuples\n",
    "MRT_location_df[\"lat_long\"] = MRT_location_df[\"lat_long\"].apply(lambda x: tuple(x.split(' ')))"
   ]
  },
  {
   "cell_type": "code",
   "execution_count": 51,
   "id": "velvet-payday",
   "metadata": {
    "scrolled": false
   },
   "outputs": [
    {
     "data": {
      "text/plain": [
       "(159, 4)"
      ]
     },
     "execution_count": 51,
     "metadata": {},
     "output_type": "execute_result"
    }
   ],
   "source": [
    "MRT_location_df.shape"
   ]
  },
  {
   "cell_type": "code",
   "execution_count": 52,
   "id": "burning-burner",
   "metadata": {},
   "outputs": [
    {
     "data": {
      "text/html": [
       "<div>\n",
       "<style scoped>\n",
       "    .dataframe tbody tr th:only-of-type {\n",
       "        vertical-align: middle;\n",
       "    }\n",
       "\n",
       "    .dataframe tbody tr th {\n",
       "        vertical-align: top;\n",
       "    }\n",
       "\n",
       "    .dataframe thead th {\n",
       "        text-align: right;\n",
       "    }\n",
       "</style>\n",
       "<table border=\"1\" class=\"dataframe\">\n",
       "  <thead>\n",
       "    <tr style=\"text-align: right;\">\n",
       "      <th></th>\n",
       "      <th>MRT</th>\n",
       "      <th>Latitude</th>\n",
       "      <th>Longitude</th>\n",
       "      <th>lat_long</th>\n",
       "    </tr>\n",
       "  </thead>\n",
       "  <tbody>\n",
       "    <tr>\n",
       "      <th>0</th>\n",
       "      <td>Jurong East MRT</td>\n",
       "      <td>1.33357652289465</td>\n",
       "      <td>103.742292350324</td>\n",
       "      <td>(1.33357652289465, 103.742292350324)</td>\n",
       "    </tr>\n",
       "  </tbody>\n",
       "</table>\n",
       "</div>"
      ],
      "text/plain": [
       "               MRT          Latitude         Longitude  \\\n",
       "0  Jurong East MRT  1.33357652289465  103.742292350324   \n",
       "\n",
       "                               lat_long  \n",
       "0  (1.33357652289465, 103.742292350324)  "
      ]
     },
     "execution_count": 52,
     "metadata": {},
     "output_type": "execute_result"
    }
   ],
   "source": [
    "MRT_location_df.head(1)"
   ]
  },
  {
   "cell_type": "code",
   "execution_count": 53,
   "id": "selected-reasoning",
   "metadata": {},
   "outputs": [],
   "source": [
    "# saving/loading data\n",
    "if os.path.exists(\"./data/MRT_location_df.pkl\"):\n",
    "    MRT_location_df = pd.read_pickle(\"./data/MRT_location_df.pkl\")\n",
    "else:\n",
    "    MRT_location_df.to_pickle(os.path.join(\"./data/\",r\"MRT_location_df.pkl\"))"
   ]
  },
  {
   "cell_type": "code",
   "execution_count": 54,
   "id": "conventional-orlando",
   "metadata": {},
   "outputs": [],
   "source": [
    "MRT_location_df.reset_index()\n",
    "\n",
    "# convert the lat_long column in station_latlong_df to a list\n",
    "MRT_location_list = list(MRT_location_df.T.iloc[-1,:])"
   ]
  },
  {
   "cell_type": "code",
   "execution_count": 55,
   "id": "australian-international",
   "metadata": {},
   "outputs": [
    {
     "data": {
      "text/plain": [
       "[('1.33357652289465', '103.742292350324'),\n",
       " ('1.34842377665437', '103.749126361849'),\n",
       " ('1.35930937732431', '103.751948590322')]"
      ]
     },
     "execution_count": 55,
     "metadata": {},
     "output_type": "execute_result"
    }
   ],
   "source": [
    "MRT_location_list[0:3]"
   ]
  },
  {
   "cell_type": "markdown",
   "id": "applicable-fusion",
   "metadata": {},
   "source": [
    "Now that we have the coordinates for MRT stations, we will need to calculate the distance between nearest MRT station to the HDB appartment.\n",
    "\n",
    "Distance between two points can be calculated using geodesics formula or great circle formula. For ease of computational time, great circle computation will be used. Both formulae are implemented in GeoPy package. \n",
    "\n",
    "As I am no mathematician, you can check out more info on the formulae in the link given below\n",
    "\n",
    "Great Circle: https://en.wikipedia.org/wiki/Great-circle_distance <br>\n",
    "Geodesics: https://en.wikipedia.org/wiki/Geodesics_on_an_ellipsoid <br>\n",
    "GeoPy: https://geopy.readthedocs.io/en/stable/#module-geopy.distance\n"
   ]
  },
  {
   "cell_type": "code",
   "execution_count": 56,
   "id": "attached-display",
   "metadata": {
    "scrolled": true
   },
   "outputs": [
    {
     "name": "stdout",
     "output_type": "stream",
     "text": [
      "Wall time: 17 s\n"
     ]
    }
   ],
   "source": [
    "%%time\n",
    "MRT_dist_df = pd.DataFrame(HDB_location_df[\"lat_long\"])\n",
    "for x in MRT_location_list:\n",
    "    MRT_dist_df[x]=HDB_location_df['lat_long'].apply(lambda y: geopy.distance.great_circle(y, x).km)"
   ]
  },
  {
   "cell_type": "code",
   "execution_count": 57,
   "id": "aware-violence",
   "metadata": {},
   "outputs": [
    {
     "data": {
      "text/plain": [
       "(9247, 160)"
      ]
     },
     "execution_count": 57,
     "metadata": {},
     "output_type": "execute_result"
    }
   ],
   "source": [
    "MRT_dist_df.shape"
   ]
  },
  {
   "cell_type": "code",
   "execution_count": 58,
   "id": "international-happening",
   "metadata": {},
   "outputs": [
    {
     "data": {
      "text/html": [
       "<div>\n",
       "<style scoped>\n",
       "    .dataframe tbody tr th:only-of-type {\n",
       "        vertical-align: middle;\n",
       "    }\n",
       "\n",
       "    .dataframe tbody tr th {\n",
       "        vertical-align: top;\n",
       "    }\n",
       "\n",
       "    .dataframe thead th {\n",
       "        text-align: right;\n",
       "    }\n",
       "</style>\n",
       "<table border=\"1\" class=\"dataframe\">\n",
       "  <thead>\n",
       "    <tr style=\"text-align: right;\">\n",
       "      <th></th>\n",
       "      <th>lat_long</th>\n",
       "      <th>(1.33357652289465, 103.742292350324)</th>\n",
       "      <th>(1.34842377665437, 103.749126361849)</th>\n",
       "      <th>(1.35930937732431, 103.751948590322)</th>\n",
       "      <th>(1.38575650064861, 103.744509334035)</th>\n",
       "      <th>(1.39753506936297, 103.747405150236)</th>\n",
       "      <th>(1.42513172976083, 103.762492227566)</th>\n",
       "      <th>(1.43275722977074, 103.773981720213)</th>\n",
       "      <th>(1.43659643136072, 103.78584424633)</th>\n",
       "      <th>(1.44053338763298, 103.801364534318)</th>\n",
       "      <th>...</th>\n",
       "      <th>(1.39451978540249, 103.916169381157)</th>\n",
       "      <th>(1.39950910636258, 103.916574974234)</th>\n",
       "      <th>(1.40228667971123, 103.912727352412)</th>\n",
       "      <th>(1.40523483636956, 103.908603542566)</th>\n",
       "      <th>(1.40961268528803, 103.904831550608)</th>\n",
       "      <th>(1.41684852031206, 103.906650789313)</th>\n",
       "      <th>(1.41590172160383, 103.902156317163)</th>\n",
       "      <th>(1.41187040942086, 103.900313788123)</th>\n",
       "      <th>(1.40845241943076, 103.898558450395)</th>\n",
       "      <th>(1.40532331860455, 103.897290522033)</th>\n",
       "    </tr>\n",
       "  </thead>\n",
       "  <tbody>\n",
       "    <tr>\n",
       "      <th>0</th>\n",
       "      <td>(1.36619678831053, 103.841505011903)</td>\n",
       "      <td>11.610051</td>\n",
       "      <td>10.457604</td>\n",
       "      <td>9.984831</td>\n",
       "      <td>10.999503</td>\n",
       "      <td>11.025553</td>\n",
       "      <td>10.958581</td>\n",
       "      <td>10.541251</td>\n",
       "      <td>9.978095</td>\n",
       "      <td>9.393333</td>\n",
       "      <td>...</td>\n",
       "      <td>8.877328</td>\n",
       "      <td>9.130144</td>\n",
       "      <td>8.876225</td>\n",
       "      <td>8.63002</td>\n",
       "      <td>8.535871</td>\n",
       "      <td>9.174145</td>\n",
       "      <td>8.718002</td>\n",
       "      <td>8.278263</td>\n",
       "      <td>7.893069</td>\n",
       "      <td>7.575224</td>\n",
       "    </tr>\n",
       "  </tbody>\n",
       "</table>\n",
       "<p>1 rows × 160 columns</p>\n",
       "</div>"
      ],
      "text/plain": [
       "                               lat_long  (1.33357652289465, 103.742292350324)  \\\n",
       "0  (1.36619678831053, 103.841505011903)                             11.610051   \n",
       "\n",
       "   (1.34842377665437, 103.749126361849)  (1.35930937732431, 103.751948590322)  \\\n",
       "0                             10.457604                              9.984831   \n",
       "\n",
       "   (1.38575650064861, 103.744509334035)  (1.39753506936297, 103.747405150236)  \\\n",
       "0                             10.999503                             11.025553   \n",
       "\n",
       "   (1.42513172976083, 103.762492227566)  (1.43275722977074, 103.773981720213)  \\\n",
       "0                             10.958581                             10.541251   \n",
       "\n",
       "   (1.43659643136072, 103.78584424633)  (1.44053338763298, 103.801364534318)  \\\n",
       "0                             9.978095                              9.393333   \n",
       "\n",
       "   ...  (1.39451978540249, 103.916169381157)  \\\n",
       "0  ...                              8.877328   \n",
       "\n",
       "   (1.39950910636258, 103.916574974234)  (1.40228667971123, 103.912727352412)  \\\n",
       "0                              9.130144                              8.876225   \n",
       "\n",
       "   (1.40523483636956, 103.908603542566)  (1.40961268528803, 103.904831550608)  \\\n",
       "0                               8.63002                              8.535871   \n",
       "\n",
       "   (1.41684852031206, 103.906650789313)  (1.41590172160383, 103.902156317163)  \\\n",
       "0                              9.174145                              8.718002   \n",
       "\n",
       "   (1.41187040942086, 103.900313788123)  (1.40845241943076, 103.898558450395)  \\\n",
       "0                              8.278263                              7.893069   \n",
       "\n",
       "   (1.40532331860455, 103.897290522033)  \n",
       "0                              7.575224  \n",
       "\n",
       "[1 rows x 160 columns]"
      ]
     },
     "execution_count": 58,
     "metadata": {},
     "output_type": "execute_result"
    }
   ],
   "source": [
    "MRT_dist_df.head(1)"
   ]
  },
  {
   "cell_type": "code",
   "execution_count": 59,
   "id": "talented-direction",
   "metadata": {},
   "outputs": [],
   "source": [
    "# get the distance from each address to the nearest station\n",
    "MRT_dist_df['distance_to_nearest_station'] = MRT_dist_df.iloc[:,1:].apply(lambda x: min(x), axis=1)"
   ]
  },
  {
   "cell_type": "code",
   "execution_count": 60,
   "id": "elementary-transaction",
   "metadata": {},
   "outputs": [
    {
     "data": {
      "text/html": [
       "<div>\n",
       "<style scoped>\n",
       "    .dataframe tbody tr th:only-of-type {\n",
       "        vertical-align: middle;\n",
       "    }\n",
       "\n",
       "    .dataframe tbody tr th {\n",
       "        vertical-align: top;\n",
       "    }\n",
       "\n",
       "    .dataframe thead th {\n",
       "        text-align: right;\n",
       "    }\n",
       "</style>\n",
       "<table border=\"1\" class=\"dataframe\">\n",
       "  <thead>\n",
       "    <tr style=\"text-align: right;\">\n",
       "      <th></th>\n",
       "      <th>lat_long</th>\n",
       "      <th>distance_to_nearest_station</th>\n",
       "    </tr>\n",
       "  </thead>\n",
       "  <tbody>\n",
       "    <tr>\n",
       "      <th>0</th>\n",
       "      <td>(1.36619678831053, 103.841505011903)</td>\n",
       "      <td>1.011905</td>\n",
       "    </tr>\n",
       "  </tbody>\n",
       "</table>\n",
       "</div>"
      ],
      "text/plain": [
       "                               lat_long  distance_to_nearest_station\n",
       "0  (1.36619678831053, 103.841505011903)                     1.011905"
      ]
     },
     "execution_count": 60,
     "metadata": {},
     "output_type": "execute_result"
    }
   ],
   "source": [
    "MRT_dist_df = MRT_dist_df.iloc[:,[0,-1]]\n",
    "MRT_dist_df.head(1)"
   ]
  },
  {
   "cell_type": "code",
   "execution_count": 62,
   "id": "informative-dayton",
   "metadata": {},
   "outputs": [],
   "source": [
    "# saving/loading data\n",
    "if os.path.exists(\"./data/MRT_dist_df.pkl\"):\n",
    "    MRT_dist_df = pd.read_pickle(\"data/MRT_dist_df.pkl\")\n",
    "else:\n",
    "    MRT_dist_df.to_pickle(os.path.join(\"./data/\",r\"MRT_dist_df.pkl\"))"
   ]
  },
  {
   "cell_type": "code",
   "execution_count": 64,
   "id": "southwest-bolivia",
   "metadata": {},
   "outputs": [],
   "source": [
    "# Merging MRT distance into HDB dataframe\n",
    "HDB_MRT_combined_df = pd.merge(HDB_location_df, MRT_dist_df, on='lat_long', how='left')"
   ]
  },
  {
   "cell_type": "code",
   "execution_count": 65,
   "id": "blind-posting",
   "metadata": {
    "scrolled": true
   },
   "outputs": [
    {
     "data": {
      "text/html": [
       "<div>\n",
       "<style scoped>\n",
       "    .dataframe tbody tr th:only-of-type {\n",
       "        vertical-align: middle;\n",
       "    }\n",
       "\n",
       "    .dataframe tbody tr th {\n",
       "        vertical-align: top;\n",
       "    }\n",
       "\n",
       "    .dataframe thead th {\n",
       "        text-align: right;\n",
       "    }\n",
       "</style>\n",
       "<table border=\"1\" class=\"dataframe\">\n",
       "  <thead>\n",
       "    <tr style=\"text-align: right;\">\n",
       "      <th></th>\n",
       "      <th>full_address</th>\n",
       "      <th>Latitude</th>\n",
       "      <th>Longitude</th>\n",
       "      <th>blk_no</th>\n",
       "      <th>road_name</th>\n",
       "      <th>postal_code</th>\n",
       "      <th>lat_long</th>\n",
       "      <th>distance_to_nearest_station</th>\n",
       "    </tr>\n",
       "  </thead>\n",
       "  <tbody>\n",
       "    <tr>\n",
       "      <th>0</th>\n",
       "      <td>216 ANG MO KIO AVE 1</td>\n",
       "      <td>1.36619678831053</td>\n",
       "      <td>103.841505011903</td>\n",
       "      <td>216</td>\n",
       "      <td>ANG MO KIO AVENUE 1</td>\n",
       "      <td>560216</td>\n",
       "      <td>(1.36619678831053, 103.841505011903)</td>\n",
       "      <td>1.011905</td>\n",
       "    </tr>\n",
       "  </tbody>\n",
       "</table>\n",
       "</div>"
      ],
      "text/plain": [
       "           full_address          Latitude         Longitude blk_no  \\\n",
       "0  216 ANG MO KIO AVE 1  1.36619678831053  103.841505011903    216   \n",
       "\n",
       "             road_name postal_code                              lat_long  \\\n",
       "0  ANG MO KIO AVENUE 1      560216  (1.36619678831053, 103.841505011903)   \n",
       "\n",
       "   distance_to_nearest_station  \n",
       "0                     1.011905  "
      ]
     },
     "execution_count": 65,
     "metadata": {},
     "output_type": "execute_result"
    }
   ],
   "source": [
    "HDB_MRT_combined_df.head(1)"
   ]
  },
  {
   "cell_type": "markdown",
   "id": "exempt-postcard",
   "metadata": {},
   "source": [
    "### School Address Geocoding"
   ]
  },
  {
   "cell_type": "markdown",
   "id": "brief-serial",
   "metadata": {},
   "source": [
    "Similar to what was done to MRT geocoding, school address geocoding will have to be done to calculate the distance between the HDB apartment to the nearest school"
   ]
  },
  {
   "cell_type": "code",
   "execution_count": 66,
   "id": "smart-polyester",
   "metadata": {},
   "outputs": [],
   "source": [
    "school_address_df = pd.read_csv(\"data/school/general-information-of-schools.csv\")"
   ]
  },
  {
   "cell_type": "code",
   "execution_count": 67,
   "id": "municipal-aquarium",
   "metadata": {},
   "outputs": [
    {
     "data": {
      "text/html": [
       "<div>\n",
       "<style scoped>\n",
       "    .dataframe tbody tr th:only-of-type {\n",
       "        vertical-align: middle;\n",
       "    }\n",
       "\n",
       "    .dataframe tbody tr th {\n",
       "        vertical-align: top;\n",
       "    }\n",
       "\n",
       "    .dataframe thead th {\n",
       "        text-align: right;\n",
       "    }\n",
       "</style>\n",
       "<table border=\"1\" class=\"dataframe\">\n",
       "  <thead>\n",
       "    <tr style=\"text-align: right;\">\n",
       "      <th></th>\n",
       "      <th>school_name</th>\n",
       "      <th>url_address</th>\n",
       "      <th>address</th>\n",
       "      <th>postal_code</th>\n",
       "      <th>telephone_no</th>\n",
       "      <th>telephone_no_2</th>\n",
       "      <th>fax_no</th>\n",
       "      <th>fax_no_2</th>\n",
       "      <th>email_address</th>\n",
       "      <th>mrt_desc</th>\n",
       "      <th>...</th>\n",
       "      <th>nature_code</th>\n",
       "      <th>session_code</th>\n",
       "      <th>mainlevel_code</th>\n",
       "      <th>sap_ind</th>\n",
       "      <th>autonomous_ind</th>\n",
       "      <th>gifted_ind</th>\n",
       "      <th>ip_ind</th>\n",
       "      <th>mothertongue1_code</th>\n",
       "      <th>mothertongue2_code</th>\n",
       "      <th>mothertongue3_code</th>\n",
       "    </tr>\n",
       "  </thead>\n",
       "  <tbody>\n",
       "    <tr>\n",
       "      <th>0</th>\n",
       "      <td>ADMIRALTY PRIMARY SCHOOL</td>\n",
       "      <td>https://admiraltypri.moe.edu.sg/</td>\n",
       "      <td>11   WOODLANDS CIRCLE</td>\n",
       "      <td>738907</td>\n",
       "      <td>63620598</td>\n",
       "      <td>na</td>\n",
       "      <td>63627512</td>\n",
       "      <td>na</td>\n",
       "      <td>ADMIRALTY_PS@MOE.EDU.SG</td>\n",
       "      <td>Admiralty Station</td>\n",
       "      <td>...</td>\n",
       "      <td>CO-ED SCHOOL</td>\n",
       "      <td>FULL DAY</td>\n",
       "      <td>PRIMARY</td>\n",
       "      <td>No</td>\n",
       "      <td>No</td>\n",
       "      <td>No</td>\n",
       "      <td>No</td>\n",
       "      <td>Chinese</td>\n",
       "      <td>Malay</td>\n",
       "      <td>Tamil</td>\n",
       "    </tr>\n",
       "  </tbody>\n",
       "</table>\n",
       "<p>1 rows × 31 columns</p>\n",
       "</div>"
      ],
      "text/plain": [
       "                school_name                       url_address  \\\n",
       "0  ADMIRALTY PRIMARY SCHOOL  https://admiraltypri.moe.edu.sg/   \n",
       "\n",
       "                 address  postal_code telephone_no telephone_no_2    fax_no  \\\n",
       "0  11   WOODLANDS CIRCLE       738907     63620598             na  63627512   \n",
       "\n",
       "  fax_no_2            email_address           mrt_desc  ...   nature_code  \\\n",
       "0       na  ADMIRALTY_PS@MOE.EDU.SG  Admiralty Station  ...  CO-ED SCHOOL   \n",
       "\n",
       "  session_code mainlevel_code sap_ind autonomous_ind gifted_ind ip_ind  \\\n",
       "0     FULL DAY        PRIMARY      No             No         No     No   \n",
       "\n",
       "  mothertongue1_code mothertongue2_code mothertongue3_code  \n",
       "0            Chinese              Malay              Tamil  \n",
       "\n",
       "[1 rows x 31 columns]"
      ]
     },
     "execution_count": 67,
     "metadata": {},
     "output_type": "execute_result"
    }
   ],
   "source": [
    "school_address_df.head(1)"
   ]
  },
  {
   "cell_type": "code",
   "execution_count": 68,
   "id": "stylish-chassis",
   "metadata": {},
   "outputs": [
    {
     "data": {
      "text/plain": [
       "345"
      ]
     },
     "execution_count": 68,
     "metadata": {},
     "output_type": "execute_result"
    }
   ],
   "source": [
    "school_address_list = school_address_df[\"address\"].unique().tolist()\n",
    "len(school_address_list)"
   ]
  },
  {
   "cell_type": "code",
   "execution_count": 69,
   "id": "hybrid-distance",
   "metadata": {
    "scrolled": false
   },
   "outputs": [
    {
     "name": "stdout",
     "output_type": "stream",
     "text": [
      "Wall time: 31.5 s\n"
     ]
    }
   ],
   "source": [
    "%%time\n",
    "\n",
    "sch_lat = []\n",
    "sch_long = []\n",
    "sch_address = []\n",
    "\n",
    "for i in range(0, len(school_address_list)):\n",
    "    query_address = school_address_list[i]\n",
    "    query_string = 'https://developers.onemap.sg/commonapi/search?searchVal='+str(query_address)+'&returnGeom=Y&getAddrDetails=Y'\n",
    "    resp = requests.get(query_string)\n",
    "\n",
    "    data_school=json.loads(resp.content)\n",
    "    \n",
    "    if data_school['found'] != 0:\n",
    "        sch_lat.append(data_school[\"results\"][0][\"LATITUDE\"])\n",
    "        sch_long.append(data_school[\"results\"][0][\"LONGITUDE\"])\n",
    "        sch_address.append(query_address)\n",
    "\n",
    "        #print (str(query_address)+\",Lat: \"+data_school['results'][0]['LATITUDE'] +\" Long: \"+data_school['results'][0]['LONGITUDE'])\n",
    "\n",
    "    else:\n",
    "        pass"
   ]
  },
  {
   "cell_type": "code",
   "execution_count": 82,
   "id": "impressive-murray",
   "metadata": {},
   "outputs": [],
   "source": [
    "school_location_df = pd.DataFrame({\n",
    "    'School': sch_address,\n",
    "    'Latitude': sch_lat,\n",
    "    'Longitude': sch_long})"
   ]
  },
  {
   "cell_type": "code",
   "execution_count": 83,
   "id": "ceramic-handy",
   "metadata": {},
   "outputs": [
    {
     "data": {
      "text/plain": [
       "(344, 3)"
      ]
     },
     "execution_count": 83,
     "metadata": {},
     "output_type": "execute_result"
    }
   ],
   "source": [
    "school_location_df.shape"
   ]
  },
  {
   "cell_type": "code",
   "execution_count": 84,
   "id": "orange-mumbai",
   "metadata": {},
   "outputs": [],
   "source": [
    "# Concatenate latitude and longitude columns into one column\n",
    "school_location_df[\"lat_long\"] = school_location_df[\"Latitude\"] +' '+ school_location_df[\"Longitude\"]\n",
    "# Convert lat_long column to tuples\n",
    "school_location_df[\"lat_long\"] = school_location_df[\"lat_long\"].apply(lambda x: tuple(x.split(' ')))"
   ]
  },
  {
   "cell_type": "code",
   "execution_count": 85,
   "id": "located-multiple",
   "metadata": {},
   "outputs": [
    {
     "data": {
      "text/plain": [
       "(159, 4)"
      ]
     },
     "execution_count": 85,
     "metadata": {},
     "output_type": "execute_result"
    }
   ],
   "source": [
    "MRT_location_df.shape"
   ]
  },
  {
   "cell_type": "code",
   "execution_count": 86,
   "id": "imposed-terrain",
   "metadata": {},
   "outputs": [
    {
     "data": {
      "text/html": [
       "<div>\n",
       "<style scoped>\n",
       "    .dataframe tbody tr th:only-of-type {\n",
       "        vertical-align: middle;\n",
       "    }\n",
       "\n",
       "    .dataframe tbody tr th {\n",
       "        vertical-align: top;\n",
       "    }\n",
       "\n",
       "    .dataframe thead th {\n",
       "        text-align: right;\n",
       "    }\n",
       "</style>\n",
       "<table border=\"1\" class=\"dataframe\">\n",
       "  <thead>\n",
       "    <tr style=\"text-align: right;\">\n",
       "      <th></th>\n",
       "      <th>MRT</th>\n",
       "      <th>Latitude</th>\n",
       "      <th>Longitude</th>\n",
       "      <th>lat_long</th>\n",
       "    </tr>\n",
       "  </thead>\n",
       "  <tbody>\n",
       "    <tr>\n",
       "      <th>0</th>\n",
       "      <td>Jurong East MRT</td>\n",
       "      <td>1.33357652289465</td>\n",
       "      <td>103.742292350324</td>\n",
       "      <td>(1.33357652289465, 103.742292350324)</td>\n",
       "    </tr>\n",
       "  </tbody>\n",
       "</table>\n",
       "</div>"
      ],
      "text/plain": [
       "               MRT          Latitude         Longitude  \\\n",
       "0  Jurong East MRT  1.33357652289465  103.742292350324   \n",
       "\n",
       "                               lat_long  \n",
       "0  (1.33357652289465, 103.742292350324)  "
      ]
     },
     "execution_count": 86,
     "metadata": {},
     "output_type": "execute_result"
    }
   ],
   "source": [
    "MRT_location_df.head(1)"
   ]
  },
  {
   "cell_type": "code",
   "execution_count": 87,
   "id": "cleared-thriller",
   "metadata": {},
   "outputs": [],
   "source": [
    "# saving/loading data\n",
    "if os.path.exists(\"./data/school_location_df.pkl\"):\n",
    "    school_location_df = pd.read_pickle(\"data/school_location_df.pkl\")\n",
    "else:\n",
    "    school_location_df.to_pickle(os.path.join(\"./data/\",r\"school_location_df.pkl\"))"
   ]
  },
  {
   "cell_type": "code",
   "execution_count": 91,
   "id": "judicial-bacteria",
   "metadata": {},
   "outputs": [],
   "source": [
    "school_location_df.reset_index()\n",
    "\n",
    "# convert the lat_long column in station_latlong_df to a list\n",
    "school_location_list = list(school_location_df.T.iloc[-1,:])"
   ]
  },
  {
   "cell_type": "code",
   "execution_count": 92,
   "id": "female-dairy",
   "metadata": {},
   "outputs": [
    {
     "data": {
      "text/plain": [
       "[('1.44267961678131', '103.800114351557'),\n",
       " ('1.44589068910991', '103.802398196596'),\n",
       " ('1.43368120674913', '103.832924289687')]"
      ]
     },
     "execution_count": 92,
     "metadata": {},
     "output_type": "execute_result"
    }
   ],
   "source": [
    "school_location_list[0:3]"
   ]
  },
  {
   "cell_type": "code",
   "execution_count": 93,
   "id": "cleared-virus",
   "metadata": {},
   "outputs": [
    {
     "name": "stdout",
     "output_type": "stream",
     "text": [
      "Wall time: 35.7 s\n"
     ]
    }
   ],
   "source": [
    "%%time\n",
    "school_dist_df = pd.DataFrame(HDB_location_df[\"lat_long\"])\n",
    "for x in school_location_list:\n",
    "    school_dist_df[x] = HDB_location_df['lat_long'].apply(lambda y: geopy.distance.great_circle(y, x).km)"
   ]
  },
  {
   "cell_type": "code",
   "execution_count": 94,
   "id": "focused-jerusalem",
   "metadata": {},
   "outputs": [],
   "source": [
    "# get the distance from each address to the nearest school\n",
    "school_dist_df['distance_to_nearest_sch'] = school_dist_df.iloc[:,1:].apply(lambda x: min(x), axis=1)"
   ]
  },
  {
   "cell_type": "code",
   "execution_count": 95,
   "id": "right-holiday",
   "metadata": {},
   "outputs": [
    {
     "data": {
      "text/html": [
       "<div>\n",
       "<style scoped>\n",
       "    .dataframe tbody tr th:only-of-type {\n",
       "        vertical-align: middle;\n",
       "    }\n",
       "\n",
       "    .dataframe tbody tr th {\n",
       "        vertical-align: top;\n",
       "    }\n",
       "\n",
       "    .dataframe thead th {\n",
       "        text-align: right;\n",
       "    }\n",
       "</style>\n",
       "<table border=\"1\" class=\"dataframe\">\n",
       "  <thead>\n",
       "    <tr style=\"text-align: right;\">\n",
       "      <th></th>\n",
       "      <th>lat_long</th>\n",
       "      <th>distance_to_nearest_sch</th>\n",
       "    </tr>\n",
       "  </thead>\n",
       "  <tbody>\n",
       "    <tr>\n",
       "      <th>0</th>\n",
       "      <td>(1.36619678831053, 103.841505011903)</td>\n",
       "      <td>0.17756</td>\n",
       "    </tr>\n",
       "  </tbody>\n",
       "</table>\n",
       "</div>"
      ],
      "text/plain": [
       "                               lat_long  distance_to_nearest_sch\n",
       "0  (1.36619678831053, 103.841505011903)                  0.17756"
      ]
     },
     "execution_count": 95,
     "metadata": {},
     "output_type": "execute_result"
    }
   ],
   "source": [
    "school_dist_df = school_dist_df.iloc[:,[0,-1]]\n",
    "school_dist_df.head(1)"
   ]
  },
  {
   "cell_type": "code",
   "execution_count": 96,
   "id": "serial-peripheral",
   "metadata": {},
   "outputs": [],
   "source": [
    "# saving/loading data\n",
    "if os.path.exists(\"./data/school_dist_df.pkl\"):\n",
    "    school_dist_df = pd.read_pickle(\"data/school_dist_df.pkl\")\n",
    "else:\n",
    "    school_dist_df.to_pickle(os.path.join(\"./data/\",r\"school_dist_df.pkl\"))"
   ]
  },
  {
   "cell_type": "code",
   "execution_count": 97,
   "id": "robust-african",
   "metadata": {},
   "outputs": [],
   "source": [
    "# Merging school distance into HDB dataframe together with MRT distance\n",
    "HDB_MRT_SCH_combined_df = pd.merge(HDB_MRT_combined_df, school_dist_df, on='lat_long', how='left')"
   ]
  },
  {
   "cell_type": "code",
   "execution_count": 98,
   "id": "proper-fruit",
   "metadata": {
    "scrolled": true
   },
   "outputs": [
    {
     "data": {
      "text/html": [
       "<div>\n",
       "<style scoped>\n",
       "    .dataframe tbody tr th:only-of-type {\n",
       "        vertical-align: middle;\n",
       "    }\n",
       "\n",
       "    .dataframe tbody tr th {\n",
       "        vertical-align: top;\n",
       "    }\n",
       "\n",
       "    .dataframe thead th {\n",
       "        text-align: right;\n",
       "    }\n",
       "</style>\n",
       "<table border=\"1\" class=\"dataframe\">\n",
       "  <thead>\n",
       "    <tr style=\"text-align: right;\">\n",
       "      <th></th>\n",
       "      <th>full_address</th>\n",
       "      <th>Latitude</th>\n",
       "      <th>Longitude</th>\n",
       "      <th>blk_no</th>\n",
       "      <th>road_name</th>\n",
       "      <th>postal_code</th>\n",
       "      <th>lat_long</th>\n",
       "      <th>distance_to_nearest_station</th>\n",
       "      <th>distance_to_nearest_sch</th>\n",
       "    </tr>\n",
       "  </thead>\n",
       "  <tbody>\n",
       "    <tr>\n",
       "      <th>0</th>\n",
       "      <td>216 ANG MO KIO AVE 1</td>\n",
       "      <td>1.36619678831053</td>\n",
       "      <td>103.841505011903</td>\n",
       "      <td>216</td>\n",
       "      <td>ANG MO KIO AVENUE 1</td>\n",
       "      <td>560216</td>\n",
       "      <td>(1.36619678831053, 103.841505011903)</td>\n",
       "      <td>1.011905</td>\n",
       "      <td>0.17756</td>\n",
       "    </tr>\n",
       "  </tbody>\n",
       "</table>\n",
       "</div>"
      ],
      "text/plain": [
       "           full_address          Latitude         Longitude blk_no  \\\n",
       "0  216 ANG MO KIO AVE 1  1.36619678831053  103.841505011903    216   \n",
       "\n",
       "             road_name postal_code                              lat_long  \\\n",
       "0  ANG MO KIO AVENUE 1      560216  (1.36619678831053, 103.841505011903)   \n",
       "\n",
       "   distance_to_nearest_station  distance_to_nearest_sch  \n",
       "0                     1.011905                  0.17756  "
      ]
     },
     "execution_count": 98,
     "metadata": {},
     "output_type": "execute_result"
    }
   ],
   "source": [
    "HDB_MRT_SCH_combined_df.head(1)"
   ]
  },
  {
   "cell_type": "code",
   "execution_count": 99,
   "id": "joint-great",
   "metadata": {},
   "outputs": [
    {
     "data": {
      "text/plain": [
       "full_address                    object\n",
       "Latitude                        object\n",
       "Longitude                       object\n",
       "blk_no                          object\n",
       "road_name                       object\n",
       "postal_code                     object\n",
       "lat_long                        object\n",
       "distance_to_nearest_station    float64\n",
       "distance_to_nearest_sch        float64\n",
       "dtype: object"
      ]
     },
     "execution_count": 99,
     "metadata": {},
     "output_type": "execute_result"
    }
   ],
   "source": [
    "HDB_MRT_SCH_combined_df.dtypes"
   ]
  },
  {
   "cell_type": "code",
   "execution_count": 103,
   "id": "necessary-count",
   "metadata": {},
   "outputs": [],
   "source": [
    "# saving/loading data\n",
    "if os.path.exists(\"./data/HDB_MRT_SCH_combined_df.pkl\"):\n",
    "    HDB_MRT_SCH_combined_df = pd.read_pickle(\"data/HDB_MRT_SCH_combined_df.pkl\")\n",
    "else:\n",
    "    HDB_MRT_SCH_combined_df.to_pickle(os.path.join(\"./data/\",r\"HDB_MRT_SCH_combined_df.pkl\"))"
   ]
  },
  {
   "cell_type": "markdown",
   "id": "armed-accident",
   "metadata": {},
   "source": [
    "### CBD Address Geocoding"
   ]
  },
  {
   "cell_type": "code",
   "execution_count": 107,
   "id": "printable-grill",
   "metadata": {
    "scrolled": true
   },
   "outputs": [
    {
     "name": "stdout",
     "output_type": "stream",
     "text": [
      "Wall time: 127 ms\n"
     ]
    }
   ],
   "source": [
    "%%time\n",
    "\n",
    "# City Hall: 1.2931° N, 103.8521° E\n",
    "\n",
    "HDB_MRT_SCH_combined_df['distance_to_city'] = HDB_MRT_SCH_combined_df['lat_long'].apply(lambda y: geopy.distance.great_circle((1.2931, 103.8521), y).km)"
   ]
  },
  {
   "cell_type": "code",
   "execution_count": null,
   "id": "compact-russia",
   "metadata": {},
   "outputs": [],
   "source": [
    "HDB_MRT_SCH_City_combined_df = HDB_MRT_SCH_combined_df"
   ]
  },
  {
   "cell_type": "code",
   "execution_count": 115,
   "id": "proof-paper",
   "metadata": {},
   "outputs": [],
   "source": [
    "# saving/loading data\n",
    "if os.path.exists(\"./data/HDB_MRT_SCH_City_combined_df.pkl\"):\n",
    "    HDB_MRT_SCH_City_combined_df = pd.read_pickle(\"data/HDB_MRT_SCH_City_combined_df.pkl\")\n",
    "else:\n",
    "    HDB_MRT_SCH_City_combined_df.to_pickle(os.path.join(\"./data/\",r\"HDB_MRT_SCH_City_combined_df.pkl\"))"
   ]
  },
  {
   "cell_type": "code",
   "execution_count": 116,
   "id": "induced-secret",
   "metadata": {
    "scrolled": true
   },
   "outputs": [
    {
     "data": {
      "text/plain": [
       "full_address                    object\n",
       "Latitude                        object\n",
       "Longitude                       object\n",
       "blk_no                          object\n",
       "road_name                       object\n",
       "postal_code                     object\n",
       "lat_long                        object\n",
       "distance_to_nearest_station    float64\n",
       "distance_to_nearest_sch        float64\n",
       "distance_to_city               float64\n",
       "dtype: object"
      ]
     },
     "execution_count": 116,
     "metadata": {},
     "output_type": "execute_result"
    }
   ],
   "source": [
    "HDB_MRT_SCH_City_combined_df.dtypes"
   ]
  },
  {
   "cell_type": "markdown",
   "id": "breathing-latitude",
   "metadata": {},
   "source": [
    "### Additional HDB Info"
   ]
  },
  {
   "cell_type": "markdown",
   "id": "flexible-bouquet",
   "metadata": {},
   "source": [
    "As I am intending to make a dashboard using Tableau, would think such additional information. Hence, I've included in the data-preprocessing step. Do note that this features are probably useless for regression analysis."
   ]
  },
  {
   "cell_type": "code",
   "execution_count": 117,
   "id": "studied-truth",
   "metadata": {},
   "outputs": [],
   "source": [
    "hdb_extra_info_df = pd.read_csv(\"data/hdb_extra_info/hdb-property-information.csv\")"
   ]
  },
  {
   "cell_type": "code",
   "execution_count": 119,
   "id": "residential-subject",
   "metadata": {},
   "outputs": [
    {
     "data": {
      "text/html": [
       "<div>\n",
       "<style scoped>\n",
       "    .dataframe tbody tr th:only-of-type {\n",
       "        vertical-align: middle;\n",
       "    }\n",
       "\n",
       "    .dataframe tbody tr th {\n",
       "        vertical-align: top;\n",
       "    }\n",
       "\n",
       "    .dataframe thead th {\n",
       "        text-align: right;\n",
       "    }\n",
       "</style>\n",
       "<table border=\"1\" class=\"dataframe\">\n",
       "  <thead>\n",
       "    <tr style=\"text-align: right;\">\n",
       "      <th></th>\n",
       "      <th>blk_no</th>\n",
       "      <th>street</th>\n",
       "      <th>max_floor_lvl</th>\n",
       "      <th>year_completed</th>\n",
       "      <th>residential</th>\n",
       "      <th>commercial</th>\n",
       "      <th>market_hawker</th>\n",
       "      <th>miscellaneous</th>\n",
       "      <th>multistorey_carpark</th>\n",
       "      <th>precinct_pavilion</th>\n",
       "      <th>...</th>\n",
       "      <th>3room_sold</th>\n",
       "      <th>4room_sold</th>\n",
       "      <th>5room_sold</th>\n",
       "      <th>exec_sold</th>\n",
       "      <th>multigen_sold</th>\n",
       "      <th>studio_apartment_sold</th>\n",
       "      <th>1room_rental</th>\n",
       "      <th>2room_rental</th>\n",
       "      <th>3room_rental</th>\n",
       "      <th>other_room_rental</th>\n",
       "    </tr>\n",
       "  </thead>\n",
       "  <tbody>\n",
       "    <tr>\n",
       "      <th>0</th>\n",
       "      <td>1</td>\n",
       "      <td>BEACH RD</td>\n",
       "      <td>16</td>\n",
       "      <td>1970</td>\n",
       "      <td>Y</td>\n",
       "      <td>Y</td>\n",
       "      <td>N</td>\n",
       "      <td>N</td>\n",
       "      <td>N</td>\n",
       "      <td>N</td>\n",
       "      <td>...</td>\n",
       "      <td>138</td>\n",
       "      <td>1</td>\n",
       "      <td>2</td>\n",
       "      <td>0</td>\n",
       "      <td>0</td>\n",
       "      <td>0</td>\n",
       "      <td>0</td>\n",
       "      <td>0</td>\n",
       "      <td>0</td>\n",
       "      <td>0</td>\n",
       "    </tr>\n",
       "  </tbody>\n",
       "</table>\n",
       "<p>1 rows × 24 columns</p>\n",
       "</div>"
      ],
      "text/plain": [
       "  blk_no    street  max_floor_lvl  year_completed residential commercial  \\\n",
       "0      1  BEACH RD             16            1970           Y          Y   \n",
       "\n",
       "  market_hawker miscellaneous multistorey_carpark precinct_pavilion  ...  \\\n",
       "0             N             N                   N                 N  ...   \n",
       "\n",
       "  3room_sold  4room_sold  5room_sold  exec_sold  multigen_sold  \\\n",
       "0        138           1           2          0              0   \n",
       "\n",
       "   studio_apartment_sold  1room_rental  2room_rental  3room_rental  \\\n",
       "0                      0             0             0             0   \n",
       "\n",
       "   other_room_rental  \n",
       "0                  0  \n",
       "\n",
       "[1 rows x 24 columns]"
      ]
     },
     "execution_count": 119,
     "metadata": {},
     "output_type": "execute_result"
    }
   ],
   "source": [
    "hdb_extra_info_df.head(1)"
   ]
  },
  {
   "cell_type": "code",
   "execution_count": 120,
   "id": "explicit-disability",
   "metadata": {},
   "outputs": [
    {
     "data": {
      "text/plain": [
       "blk_no                   object\n",
       "street                   object\n",
       "max_floor_lvl             int64\n",
       "year_completed            int64\n",
       "residential              object\n",
       "commercial               object\n",
       "market_hawker            object\n",
       "miscellaneous            object\n",
       "multistorey_carpark      object\n",
       "precinct_pavilion        object\n",
       "bldg_contract_town       object\n",
       "total_dwelling_units      int64\n",
       "1room_sold                int64\n",
       "2room_sold                int64\n",
       "3room_sold                int64\n",
       "4room_sold                int64\n",
       "5room_sold                int64\n",
       "exec_sold                 int64\n",
       "multigen_sold             int64\n",
       "studio_apartment_sold     int64\n",
       "1room_rental              int64\n",
       "2room_rental              int64\n",
       "3room_rental              int64\n",
       "other_room_rental         int64\n",
       "dtype: object"
      ]
     },
     "execution_count": 120,
     "metadata": {},
     "output_type": "execute_result"
    }
   ],
   "source": [
    "hdb_extra_info_df.dtypes"
   ]
  },
  {
   "cell_type": "code",
   "execution_count": 122,
   "id": "chief-brazilian",
   "metadata": {},
   "outputs": [],
   "source": [
    "hdb_extra_info_df['full_address'] = hdb_extra_info_df[\"blk_no\"].map(str) + ' ' + hdb_extra_info_df[\"street\"].map(str)"
   ]
  },
  {
   "cell_type": "code",
   "execution_count": 124,
   "id": "lightweight-roman",
   "metadata": {},
   "outputs": [],
   "source": [
    "# Filter out instances that are not commercial buildings\n",
    "hdb_extra_info_df = hdb_extra_info_df[hdb_extra_info_df[\"commercial\"]=='N']\n",
    "\n",
    "# Select columns that may be useful in modeling\n",
    "hdb_extra_info_df = hdb_extra_info_df.iloc[:,[-1,2,3,4,6,7,8,9]]"
   ]
  },
  {
   "cell_type": "code",
   "execution_count": 125,
   "id": "annoying-picture",
   "metadata": {},
   "outputs": [
    {
     "data": {
      "text/plain": [
       "9840"
      ]
     },
     "execution_count": 125,
     "metadata": {},
     "output_type": "execute_result"
    }
   ],
   "source": [
    "len(hdb_extra_info_df)"
   ]
  },
  {
   "cell_type": "code",
   "execution_count": 127,
   "id": "analyzed-affiliation",
   "metadata": {},
   "outputs": [
    {
     "data": {
      "text/html": [
       "<div>\n",
       "<style scoped>\n",
       "    .dataframe tbody tr th:only-of-type {\n",
       "        vertical-align: middle;\n",
       "    }\n",
       "\n",
       "    .dataframe tbody tr th {\n",
       "        vertical-align: top;\n",
       "    }\n",
       "\n",
       "    .dataframe thead th {\n",
       "        text-align: right;\n",
       "    }\n",
       "</style>\n",
       "<table border=\"1\" class=\"dataframe\">\n",
       "  <thead>\n",
       "    <tr style=\"text-align: right;\">\n",
       "      <th></th>\n",
       "      <th>full_address</th>\n",
       "      <th>max_floor_lvl</th>\n",
       "      <th>year_completed</th>\n",
       "      <th>residential</th>\n",
       "      <th>market_hawker</th>\n",
       "      <th>miscellaneous</th>\n",
       "      <th>multistorey_carpark</th>\n",
       "      <th>precinct_pavilion</th>\n",
       "    </tr>\n",
       "  </thead>\n",
       "  <tbody>\n",
       "    <tr>\n",
       "      <th>1</th>\n",
       "      <td>1 BEDOK STH AVE 1</td>\n",
       "      <td>14</td>\n",
       "      <td>1975</td>\n",
       "      <td>Y</td>\n",
       "      <td>N</td>\n",
       "      <td>Y</td>\n",
       "      <td>N</td>\n",
       "      <td>N</td>\n",
       "    </tr>\n",
       "  </tbody>\n",
       "</table>\n",
       "</div>"
      ],
      "text/plain": [
       "        full_address  max_floor_lvl  year_completed residential market_hawker  \\\n",
       "1  1 BEDOK STH AVE 1             14            1975           Y             N   \n",
       "\n",
       "  miscellaneous multistorey_carpark precinct_pavilion  \n",
       "1             Y                   N                 N  "
      ]
     },
     "execution_count": 127,
     "metadata": {},
     "output_type": "execute_result"
    }
   ],
   "source": [
    "hdb_extra_info_df.head(1)"
   ]
  },
  {
   "cell_type": "code",
   "execution_count": 128,
   "id": "arctic-hindu",
   "metadata": {},
   "outputs": [],
   "source": [
    "# saving/loading data\n",
    "if os.path.exists(\"./data/hdb_extra_info_df.pkl\"):\n",
    "    hdb_extra_info_df = pd.read_pickle(\"data/hdb_extra_info_df.pkl\")\n",
    "else:\n",
    "    hdb_extra_info_df.to_pickle(os.path.join(\"./data/\",r\"hdb_extra_info_df.pkl\"))"
   ]
  },
  {
   "cell_type": "markdown",
   "id": "motivated-module",
   "metadata": {},
   "source": [
    "### Merging of engineered feature with original dataset"
   ]
  },
  {
   "cell_type": "markdown",
   "id": "mounted-funds",
   "metadata": {},
   "source": [
    "We will be merging \"df\", \"HDB_MRT_SCH_City_combined_df\" and \"hdb_extra_info_df\" together based on `full_address` column. Thus, it is important for us to check for any abbreviation used in the various dataframe in order for dataframe to merge smoothly."
   ]
  },
  {
   "cell_type": "code",
   "execution_count": 130,
   "id": "abroad-process",
   "metadata": {},
   "outputs": [],
   "source": [
    "HDB_MRT_SCH_City_combined_df['full_address'] = HDB_MRT_SCH_City_combined_df['full_address'].str.replace('AVENUE', 'AVE') \\\n",
    "                                    .str.replace('CRESCENT', 'CRES') \\\n",
    "                                    .str.replace('ROAD', 'RD') \\\n",
    "                                    .str.replace('STREET', 'ST') \\\n",
    "                                    .str.replace('CENTRAL', 'CTRL') \\\n",
    "                                    .str.replace('HEIGHTS', 'HTS') \\\n",
    "                                    .str.replace('TERRACE', 'TER') \\\n",
    "                                    .str.replace('JALAN', 'JLN') \\\n",
    "                                    .str.replace('DRIVE', 'DR') \\\n",
    "                                    .str.replace('PLACE', 'PL') \\\n",
    "                                    .str.replace('CLOSE', 'CL') \\\n",
    "                                    .str.replace('PARK', 'PK') \\\n",
    "                                    .str.replace('GARDENS', 'GDNS') \\\n",
    "                                    .str.replace('NORTH', 'NTH') \\\n",
    "                                    .str.replace('SOUTH', 'STH') \\\n",
    "                                    .str.replace('BUKIT', 'BT') \\\n",
    "                                    .str.replace('UPPER', 'UPP}') \\\n",
    "                                    .str.replace('COMMONWEALTH', \"C'WEALTH\")"
   ]
  },
  {
   "cell_type": "code",
   "execution_count": 137,
   "id": "headed-hearing",
   "metadata": {},
   "outputs": [
    {
     "data": {
      "text/plain": [
       "9271"
      ]
     },
     "execution_count": 137,
     "metadata": {},
     "output_type": "execute_result"
    }
   ],
   "source": [
    "len(HDB_MRT_SCH_City_combined_df)"
   ]
  },
  {
   "cell_type": "code",
   "execution_count": 138,
   "id": "complimentary-console",
   "metadata": {},
   "outputs": [],
   "source": [
    "HDB_MRT_SCH_City_combined_df_processed = HDB_MRT_SCH_City_combined_df.drop_duplicates('full_address')"
   ]
  },
  {
   "cell_type": "code",
   "execution_count": 139,
   "id": "stone-finance",
   "metadata": {},
   "outputs": [
    {
     "data": {
      "text/plain": [
       "9247"
      ]
     },
     "execution_count": 139,
     "metadata": {},
     "output_type": "execute_result"
    }
   ],
   "source": [
    "len(HDB_MRT_SCH_City_combined_df_processed)"
   ]
  },
  {
   "cell_type": "code",
   "execution_count": 177,
   "id": "cellular-senior",
   "metadata": {},
   "outputs": [],
   "source": [
    "HDB_data_processed = pd.merge(df, HDB_MRT_SCH_City_combined_df_processed, on='full_address', how='left')"
   ]
  },
  {
   "cell_type": "code",
   "execution_count": 178,
   "id": "peaceful-literature",
   "metadata": {},
   "outputs": [],
   "source": [
    "HDB_data_processed = pd.merge(HDB_data_processed, hdb_extra_info_df, on='full_address', how='left')"
   ]
  },
  {
   "cell_type": "code",
   "execution_count": 179,
   "id": "driving-interference",
   "metadata": {},
   "outputs": [
    {
     "data": {
      "text/html": [
       "<div>\n",
       "<style scoped>\n",
       "    .dataframe tbody tr th:only-of-type {\n",
       "        vertical-align: middle;\n",
       "    }\n",
       "\n",
       "    .dataframe tbody tr th {\n",
       "        vertical-align: top;\n",
       "    }\n",
       "\n",
       "    .dataframe thead th {\n",
       "        text-align: right;\n",
       "    }\n",
       "</style>\n",
       "<table border=\"1\" class=\"dataframe\">\n",
       "  <thead>\n",
       "    <tr style=\"text-align: right;\">\n",
       "      <th></th>\n",
       "      <th>year</th>\n",
       "      <th>month</th>\n",
       "      <th>quarter</th>\n",
       "      <th>town</th>\n",
       "      <th>flat_type</th>\n",
       "      <th>block</th>\n",
       "      <th>street_name</th>\n",
       "      <th>full_address</th>\n",
       "      <th>storey_range</th>\n",
       "      <th>floor_area_sqm</th>\n",
       "      <th>...</th>\n",
       "      <th>distance_to_nearest_station</th>\n",
       "      <th>distance_to_nearest_sch</th>\n",
       "      <th>distance_to_city</th>\n",
       "      <th>max_floor_lvl</th>\n",
       "      <th>year_completed</th>\n",
       "      <th>residential</th>\n",
       "      <th>market_hawker</th>\n",
       "      <th>miscellaneous</th>\n",
       "      <th>multistorey_carpark</th>\n",
       "      <th>precinct_pavilion</th>\n",
       "    </tr>\n",
       "  </thead>\n",
       "  <tbody>\n",
       "    <tr>\n",
       "      <th>0</th>\n",
       "      <td>1990</td>\n",
       "      <td>01</td>\n",
       "      <td>1990-Q1</td>\n",
       "      <td>ANG MO KIO</td>\n",
       "      <td>1 ROOM</td>\n",
       "      <td>309</td>\n",
       "      <td>ANG MO KIO AVE 1</td>\n",
       "      <td>309 ANG MO KIO AVE 1</td>\n",
       "      <td>High Floor</td>\n",
       "      <td>31.0</td>\n",
       "      <td>...</td>\n",
       "      <td>NaN</td>\n",
       "      <td>NaN</td>\n",
       "      <td>NaN</td>\n",
       "      <td>NaN</td>\n",
       "      <td>NaN</td>\n",
       "      <td>NaN</td>\n",
       "      <td>NaN</td>\n",
       "      <td>NaN</td>\n",
       "      <td>NaN</td>\n",
       "      <td>NaN</td>\n",
       "    </tr>\n",
       "  </tbody>\n",
       "</table>\n",
       "<p>1 rows × 32 columns</p>\n",
       "</div>"
      ],
      "text/plain": [
       "   year month  quarter        town flat_type block       street_name  \\\n",
       "0  1990    01  1990-Q1  ANG MO KIO    1 ROOM   309  ANG MO KIO AVE 1   \n",
       "\n",
       "           full_address storey_range  floor_area_sqm  ...  \\\n",
       "0  309 ANG MO KIO AVE 1   High Floor            31.0  ...   \n",
       "\n",
       "   distance_to_nearest_station  distance_to_nearest_sch  distance_to_city  \\\n",
       "0                          NaN                      NaN               NaN   \n",
       "\n",
       "   max_floor_lvl  year_completed  residential market_hawker miscellaneous  \\\n",
       "0            NaN             NaN          NaN           NaN           NaN   \n",
       "\n",
       "  multistorey_carpark precinct_pavilion  \n",
       "0                 NaN               NaN  \n",
       "\n",
       "[1 rows x 32 columns]"
      ]
     },
     "execution_count": 179,
     "metadata": {},
     "output_type": "execute_result"
    }
   ],
   "source": [
    "HDB_data_processed.head(1)"
   ]
  },
  {
   "cell_type": "code",
   "execution_count": 180,
   "id": "increasing-enemy",
   "metadata": {
    "scrolled": true
   },
   "outputs": [
    {
     "data": {
      "text/plain": [
       "year                                0\n",
       "month                               0\n",
       "quarter                             0\n",
       "town                                0\n",
       "flat_type                           0\n",
       "block                               0\n",
       "street_name                         0\n",
       "full_address                        0\n",
       "storey_range                        0\n",
       "floor_area_sqm                      0\n",
       "price_per_sqm                       0\n",
       "lease_commence_date                 0\n",
       "remaining_lease                     0\n",
       "index                               0\n",
       "resale_price                        0\n",
       "resale_price_normalised             0\n",
       "Latitude                        12196\n",
       "Longitude                       12196\n",
       "blk_no                          12196\n",
       "road_name                       12196\n",
       "postal_code                     12196\n",
       "lat_long                        12196\n",
       "distance_to_nearest_station     12196\n",
       "distance_to_nearest_sch         12196\n",
       "distance_to_city                12196\n",
       "max_floor_lvl                  201317\n",
       "year_completed                 201317\n",
       "residential                    201317\n",
       "market_hawker                  201317\n",
       "miscellaneous                  201317\n",
       "multistorey_carpark            201317\n",
       "precinct_pavilion              201317\n",
       "dtype: int64"
      ]
     },
     "execution_count": 180,
     "metadata": {},
     "output_type": "execute_result"
    }
   ],
   "source": [
    "HDB_data_processed.isnull().sum()"
   ]
  },
  {
   "cell_type": "markdown",
   "id": "sunset-experience",
   "metadata": {},
   "source": [
    "Noticed that the important value that will be used for regression contains only 1.5% of missing data out of entire dataset, this is probably okay and wouldnt affect the regression analysis. Thus, we will be dropping the data with missing info"
   ]
  },
  {
   "cell_type": "code",
   "execution_count": 181,
   "id": "differential-simon",
   "metadata": {},
   "outputs": [
    {
     "data": {
      "text/plain": [
       "1.4503404661163077"
      ]
     },
     "execution_count": 181,
     "metadata": {},
     "output_type": "execute_result"
    }
   ],
   "source": [
    "12196/len(HDB_data_processed)*100"
   ]
  },
  {
   "cell_type": "code",
   "execution_count": 190,
   "id": "coupled-geneva",
   "metadata": {},
   "outputs": [],
   "source": [
    "#dropping missing values\n",
    "HDB_data_processed = HDB_data_processed.dropna(subset=['lat_long'])"
   ]
  },
  {
   "cell_type": "code",
   "execution_count": 191,
   "id": "linear-digest",
   "metadata": {
    "scrolled": true
   },
   "outputs": [
    {
     "data": {
      "text/html": [
       "<div>\n",
       "<style scoped>\n",
       "    .dataframe tbody tr th:only-of-type {\n",
       "        vertical-align: middle;\n",
       "    }\n",
       "\n",
       "    .dataframe tbody tr th {\n",
       "        vertical-align: top;\n",
       "    }\n",
       "\n",
       "    .dataframe thead th {\n",
       "        text-align: right;\n",
       "    }\n",
       "</style>\n",
       "<table border=\"1\" class=\"dataframe\">\n",
       "  <thead>\n",
       "    <tr style=\"text-align: right;\">\n",
       "      <th></th>\n",
       "      <th>year</th>\n",
       "      <th>month</th>\n",
       "      <th>quarter</th>\n",
       "      <th>town</th>\n",
       "      <th>flat_type</th>\n",
       "      <th>block</th>\n",
       "      <th>street_name</th>\n",
       "      <th>full_address</th>\n",
       "      <th>storey_range</th>\n",
       "      <th>floor_area_sqm</th>\n",
       "      <th>...</th>\n",
       "      <th>distance_to_nearest_station</th>\n",
       "      <th>distance_to_nearest_sch</th>\n",
       "      <th>distance_to_city</th>\n",
       "      <th>max_floor_lvl</th>\n",
       "      <th>year_completed</th>\n",
       "      <th>residential</th>\n",
       "      <th>market_hawker</th>\n",
       "      <th>miscellaneous</th>\n",
       "      <th>multistorey_carpark</th>\n",
       "      <th>precinct_pavilion</th>\n",
       "    </tr>\n",
       "  </thead>\n",
       "  <tbody>\n",
       "    <tr>\n",
       "      <th>4</th>\n",
       "      <td>1990</td>\n",
       "      <td>01</td>\n",
       "      <td>1990-Q1</td>\n",
       "      <td>ANG MO KIO</td>\n",
       "      <td>3 ROOM</td>\n",
       "      <td>216</td>\n",
       "      <td>ANG MO KIO AVE 1</td>\n",
       "      <td>216 ANG MO KIO AVE 1</td>\n",
       "      <td>Low Floor</td>\n",
       "      <td>73.0</td>\n",
       "      <td>...</td>\n",
       "      <td>1.011905</td>\n",
       "      <td>0.177560</td>\n",
       "      <td>8.212895</td>\n",
       "      <td>10.0</td>\n",
       "      <td>1975.0</td>\n",
       "      <td>Y</td>\n",
       "      <td>N</td>\n",
       "      <td>N</td>\n",
       "      <td>N</td>\n",
       "      <td>N</td>\n",
       "    </tr>\n",
       "    <tr>\n",
       "      <th>5</th>\n",
       "      <td>1990</td>\n",
       "      <td>01</td>\n",
       "      <td>1990-Q1</td>\n",
       "      <td>ANG MO KIO</td>\n",
       "      <td>3 ROOM</td>\n",
       "      <td>211</td>\n",
       "      <td>ANG MO KIO AVE 3</td>\n",
       "      <td>211 ANG MO KIO AVE 3</td>\n",
       "      <td>Low Floor</td>\n",
       "      <td>67.0</td>\n",
       "      <td>...</td>\n",
       "      <td>0.910232</td>\n",
       "      <td>0.229220</td>\n",
       "      <td>8.540727</td>\n",
       "      <td>NaN</td>\n",
       "      <td>NaN</td>\n",
       "      <td>NaN</td>\n",
       "      <td>NaN</td>\n",
       "      <td>NaN</td>\n",
       "      <td>NaN</td>\n",
       "      <td>NaN</td>\n",
       "    </tr>\n",
       "    <tr>\n",
       "      <th>6</th>\n",
       "      <td>1990</td>\n",
       "      <td>01</td>\n",
       "      <td>1990-Q1</td>\n",
       "      <td>ANG MO KIO</td>\n",
       "      <td>3 ROOM</td>\n",
       "      <td>202</td>\n",
       "      <td>ANG MO KIO AVE 3</td>\n",
       "      <td>202 ANG MO KIO AVE 3</td>\n",
       "      <td>Mid Floor</td>\n",
       "      <td>67.0</td>\n",
       "      <td>...</td>\n",
       "      <td>0.611354</td>\n",
       "      <td>0.245430</td>\n",
       "      <td>8.421699</td>\n",
       "      <td>NaN</td>\n",
       "      <td>NaN</td>\n",
       "      <td>NaN</td>\n",
       "      <td>NaN</td>\n",
       "      <td>NaN</td>\n",
       "      <td>NaN</td>\n",
       "      <td>NaN</td>\n",
       "    </tr>\n",
       "    <tr>\n",
       "      <th>7</th>\n",
       "      <td>1990</td>\n",
       "      <td>01</td>\n",
       "      <td>1990-Q1</td>\n",
       "      <td>ANG MO KIO</td>\n",
       "      <td>3 ROOM</td>\n",
       "      <td>235</td>\n",
       "      <td>ANG MO KIO AVE 3</td>\n",
       "      <td>235 ANG MO KIO AVE 3</td>\n",
       "      <td>High Floor</td>\n",
       "      <td>67.0</td>\n",
       "      <td>...</td>\n",
       "      <td>1.520949</td>\n",
       "      <td>0.204981</td>\n",
       "      <td>8.379324</td>\n",
       "      <td>12.0</td>\n",
       "      <td>1976.0</td>\n",
       "      <td>Y</td>\n",
       "      <td>N</td>\n",
       "      <td>Y</td>\n",
       "      <td>N</td>\n",
       "      <td>N</td>\n",
       "    </tr>\n",
       "    <tr>\n",
       "      <th>8</th>\n",
       "      <td>1990</td>\n",
       "      <td>01</td>\n",
       "      <td>1990-Q1</td>\n",
       "      <td>ANG MO KIO</td>\n",
       "      <td>3 ROOM</td>\n",
       "      <td>235</td>\n",
       "      <td>ANG MO KIO AVE 3</td>\n",
       "      <td>235 ANG MO KIO AVE 3</td>\n",
       "      <td>Low Floor</td>\n",
       "      <td>67.0</td>\n",
       "      <td>...</td>\n",
       "      <td>1.520949</td>\n",
       "      <td>0.204981</td>\n",
       "      <td>8.379324</td>\n",
       "      <td>12.0</td>\n",
       "      <td>1976.0</td>\n",
       "      <td>Y</td>\n",
       "      <td>N</td>\n",
       "      <td>Y</td>\n",
       "      <td>N</td>\n",
       "      <td>N</td>\n",
       "    </tr>\n",
       "  </tbody>\n",
       "</table>\n",
       "<p>5 rows × 32 columns</p>\n",
       "</div>"
      ],
      "text/plain": [
       "   year month  quarter        town flat_type block       street_name  \\\n",
       "4  1990    01  1990-Q1  ANG MO KIO    3 ROOM   216  ANG MO KIO AVE 1   \n",
       "5  1990    01  1990-Q1  ANG MO KIO    3 ROOM   211  ANG MO KIO AVE 3   \n",
       "6  1990    01  1990-Q1  ANG MO KIO    3 ROOM   202  ANG MO KIO AVE 3   \n",
       "7  1990    01  1990-Q1  ANG MO KIO    3 ROOM   235  ANG MO KIO AVE 3   \n",
       "8  1990    01  1990-Q1  ANG MO KIO    3 ROOM   235  ANG MO KIO AVE 3   \n",
       "\n",
       "           full_address storey_range  floor_area_sqm  ...  \\\n",
       "4  216 ANG MO KIO AVE 1    Low Floor            73.0  ...   \n",
       "5  211 ANG MO KIO AVE 3    Low Floor            67.0  ...   \n",
       "6  202 ANG MO KIO AVE 3    Mid Floor            67.0  ...   \n",
       "7  235 ANG MO KIO AVE 3   High Floor            67.0  ...   \n",
       "8  235 ANG MO KIO AVE 3    Low Floor            67.0  ...   \n",
       "\n",
       "   distance_to_nearest_station  distance_to_nearest_sch  distance_to_city  \\\n",
       "4                     1.011905                 0.177560          8.212895   \n",
       "5                     0.910232                 0.229220          8.540727   \n",
       "6                     0.611354                 0.245430          8.421699   \n",
       "7                     1.520949                 0.204981          8.379324   \n",
       "8                     1.520949                 0.204981          8.379324   \n",
       "\n",
       "   max_floor_lvl  year_completed  residential market_hawker miscellaneous  \\\n",
       "4           10.0          1975.0            Y             N             N   \n",
       "5            NaN             NaN          NaN           NaN           NaN   \n",
       "6            NaN             NaN          NaN           NaN           NaN   \n",
       "7           12.0          1976.0            Y             N             Y   \n",
       "8           12.0          1976.0            Y             N             Y   \n",
       "\n",
       "  multistorey_carpark precinct_pavilion  \n",
       "4                   N                 N  \n",
       "5                 NaN               NaN  \n",
       "6                 NaN               NaN  \n",
       "7                   N                 N  \n",
       "8                   N                 N  \n",
       "\n",
       "[5 rows x 32 columns]"
      ]
     },
     "execution_count": 191,
     "metadata": {},
     "output_type": "execute_result"
    }
   ],
   "source": [
    "HDB_data_processed.head()"
   ]
  },
  {
   "cell_type": "code",
   "execution_count": 184,
   "id": "opening-hello",
   "metadata": {},
   "outputs": [],
   "source": [
    "# saving/loading data\n",
    "if os.path.exists(\"./data/HDB_data_processed.pkl\"):\n",
    "    HDB_data_processed = pd.read_pickle(\"data/HDB_data_processed.pkl\")\n",
    "else:\n",
    "    HDB_data_processed.to_pickle(os.path.join(\"./data/\",r\"HDB_data_processed.pkl\"))"
   ]
  },
  {
   "cell_type": "markdown",
   "id": "greatest-worry",
   "metadata": {},
   "source": [
    "# ML Modelling"
   ]
  },
  {
   "cell_type": "markdown",
   "id": "reliable-minutes",
   "metadata": {},
   "source": [
    "After finishing with data pre-processing, we are ready for creating a model for predicting HDB resale prices. As the prediction is of continous basis, estimator to be used will be regression model."
   ]
  },
  {
   "cell_type": "code",
   "execution_count": 194,
   "id": "ready-spectrum",
   "metadata": {},
   "outputs": [
    {
     "data": {
      "text/plain": [
       "Index(['year', 'month', 'quarter', 'town', 'flat_type', 'block', 'street_name',\n",
       "       'full_address', 'storey_range', 'floor_area_sqm', 'price_per_sqm',\n",
       "       'lease_commence_date', 'remaining_lease', 'index', 'resale_price',\n",
       "       'resale_price_normalised', 'Latitude', 'Longitude', 'blk_no',\n",
       "       'road_name', 'postal_code', 'lat_long', 'distance_to_nearest_station',\n",
       "       'distance_to_nearest_sch', 'distance_to_city', 'max_floor_lvl',\n",
       "       'year_completed', 'residential', 'market_hawker', 'miscellaneous',\n",
       "       'multistorey_carpark', 'precinct_pavilion'],\n",
       "      dtype='object')"
      ]
     },
     "execution_count": 194,
     "metadata": {},
     "output_type": "execute_result"
    }
   ],
   "source": [
    "HDB_data_processed.columns"
   ]
  },
  {
   "cell_type": "code",
   "execution_count": 209,
   "id": "upper-instrument",
   "metadata": {},
   "outputs": [],
   "source": [
    "chosen_feats_list = ['town', \n",
    "                     'flat_type', \n",
    "                     'storey_range', \n",
    "                     'floor_area_sqm',\n",
    "                     'price_per_sqm', \n",
    "                     'remaining_lease',  \n",
    "                     'distance_to_nearest_station', \n",
    "                     'distance_to_nearest_sch', \n",
    "                     'distance_to_city']"
   ]
  },
  {
   "cell_type": "code",
   "execution_count": 284,
   "id": "warming-falls",
   "metadata": {},
   "outputs": [],
   "source": [
    "data_choosen = HDB_data_processed[chosen_feats_list]"
   ]
  },
  {
   "cell_type": "code",
   "execution_count": 285,
   "id": "northern-austin",
   "metadata": {},
   "outputs": [
    {
     "data": {
      "text/html": [
       "<div>\n",
       "<style scoped>\n",
       "    .dataframe tbody tr th:only-of-type {\n",
       "        vertical-align: middle;\n",
       "    }\n",
       "\n",
       "    .dataframe tbody tr th {\n",
       "        vertical-align: top;\n",
       "    }\n",
       "\n",
       "    .dataframe thead th {\n",
       "        text-align: right;\n",
       "    }\n",
       "</style>\n",
       "<table border=\"1\" class=\"dataframe\">\n",
       "  <thead>\n",
       "    <tr style=\"text-align: right;\">\n",
       "      <th></th>\n",
       "      <th>town</th>\n",
       "      <th>flat_type</th>\n",
       "      <th>storey_range</th>\n",
       "      <th>floor_area_sqm</th>\n",
       "      <th>price_per_sqm</th>\n",
       "      <th>remaining_lease</th>\n",
       "      <th>distance_to_nearest_station</th>\n",
       "      <th>distance_to_nearest_sch</th>\n",
       "      <th>distance_to_city</th>\n",
       "    </tr>\n",
       "  </thead>\n",
       "  <tbody>\n",
       "    <tr>\n",
       "      <th>4</th>\n",
       "      <td>ANG MO KIO</td>\n",
       "      <td>3 ROOM</td>\n",
       "      <td>Low Floor</td>\n",
       "      <td>73.0</td>\n",
       "      <td>3783.663115</td>\n",
       "      <td>85</td>\n",
       "      <td>1.011905</td>\n",
       "      <td>0.177560</td>\n",
       "      <td>8.212895</td>\n",
       "    </tr>\n",
       "    <tr>\n",
       "      <th>5</th>\n",
       "      <td>ANG MO KIO</td>\n",
       "      <td>3 ROOM</td>\n",
       "      <td>Low Floor</td>\n",
       "      <td>67.0</td>\n",
       "      <td>4017.689331</td>\n",
       "      <td>86</td>\n",
       "      <td>0.910232</td>\n",
       "      <td>0.229220</td>\n",
       "      <td>8.540727</td>\n",
       "    </tr>\n",
       "    <tr>\n",
       "      <th>6</th>\n",
       "      <td>ANG MO KIO</td>\n",
       "      <td>3 ROOM</td>\n",
       "      <td>Mid Floor</td>\n",
       "      <td>67.0</td>\n",
       "      <td>3668.325041</td>\n",
       "      <td>86</td>\n",
       "      <td>0.611354</td>\n",
       "      <td>0.245430</td>\n",
       "      <td>8.421699</td>\n",
       "    </tr>\n",
       "    <tr>\n",
       "      <th>7</th>\n",
       "      <td>ANG MO KIO</td>\n",
       "      <td>3 ROOM</td>\n",
       "      <td>High Floor</td>\n",
       "      <td>67.0</td>\n",
       "      <td>3318.960752</td>\n",
       "      <td>86</td>\n",
       "      <td>1.520949</td>\n",
       "      <td>0.204981</td>\n",
       "      <td>8.379324</td>\n",
       "    </tr>\n",
       "    <tr>\n",
       "      <th>8</th>\n",
       "      <td>ANG MO KIO</td>\n",
       "      <td>3 ROOM</td>\n",
       "      <td>Low Floor</td>\n",
       "      <td>67.0</td>\n",
       "      <td>3493.642897</td>\n",
       "      <td>86</td>\n",
       "      <td>1.520949</td>\n",
       "      <td>0.204981</td>\n",
       "      <td>8.379324</td>\n",
       "    </tr>\n",
       "  </tbody>\n",
       "</table>\n",
       "</div>"
      ],
      "text/plain": [
       "         town flat_type storey_range  floor_area_sqm  price_per_sqm  \\\n",
       "4  ANG MO KIO    3 ROOM    Low Floor            73.0    3783.663115   \n",
       "5  ANG MO KIO    3 ROOM    Low Floor            67.0    4017.689331   \n",
       "6  ANG MO KIO    3 ROOM    Mid Floor            67.0    3668.325041   \n",
       "7  ANG MO KIO    3 ROOM   High Floor            67.0    3318.960752   \n",
       "8  ANG MO KIO    3 ROOM    Low Floor            67.0    3493.642897   \n",
       "\n",
       "   remaining_lease  distance_to_nearest_station  distance_to_nearest_sch  \\\n",
       "4               85                     1.011905                 0.177560   \n",
       "5               86                     0.910232                 0.229220   \n",
       "6               86                     0.611354                 0.245430   \n",
       "7               86                     1.520949                 0.204981   \n",
       "8               86                     1.520949                 0.204981   \n",
       "\n",
       "   distance_to_city  \n",
       "4          8.212895  \n",
       "5          8.540727  \n",
       "6          8.421699  \n",
       "7          8.379324  \n",
       "8          8.379324  "
      ]
     },
     "execution_count": 285,
     "metadata": {},
     "output_type": "execute_result"
    }
   ],
   "source": [
    "data_choosen.head()"
   ]
  },
  {
   "cell_type": "code",
   "execution_count": 286,
   "id": "worthy-basic",
   "metadata": {},
   "outputs": [],
   "source": [
    "# convert to indicator values Title and Embarked \n",
    "data_choosen = pd.get_dummies(data_choosen)"
   ]
  },
  {
   "cell_type": "code",
   "execution_count": 287,
   "id": "ready-approach",
   "metadata": {},
   "outputs": [
    {
     "data": {
      "text/plain": [
       "Index(['floor_area_sqm', 'price_per_sqm', 'remaining_lease',\n",
       "       'distance_to_nearest_station', 'distance_to_nearest_sch',\n",
       "       'distance_to_city', 'town_ANG MO KIO', 'town_BEDOK', 'town_BISHAN',\n",
       "       'town_BUKIT BATOK', 'town_BUKIT MERAH', 'town_BUKIT PANJANG',\n",
       "       'town_BUKIT TIMAH', 'town_CENTRAL AREA', 'town_CHOA CHU KANG',\n",
       "       'town_CLEMENTI', 'town_GEYLANG', 'town_HOUGANG', 'town_JURONG EAST',\n",
       "       'town_JURONG WEST', 'town_KALLANG/WHAMPOA', 'town_LIM CHU KANG',\n",
       "       'town_MARINE PARADE', 'town_PASIR RIS', 'town_PUNGGOL',\n",
       "       'town_QUEENSTOWN', 'town_SEMBAWANG', 'town_SENGKANG', 'town_SERANGOON',\n",
       "       'town_TAMPINES', 'town_TOA PAYOH', 'town_WOODLANDS', 'town_YISHUN',\n",
       "       'flat_type_1 ROOM', 'flat_type_2 ROOM', 'flat_type_3 ROOM',\n",
       "       'flat_type_4 ROOM', 'flat_type_5 ROOM', 'flat_type_EXECUTIVE',\n",
       "       'flat_type_MULTI GENERATION', 'storey_range_High Floor',\n",
       "       'storey_range_Low Floor', 'storey_range_Mid Floor',\n",
       "       'storey_range_Very High Floor'],\n",
       "      dtype='object')"
      ]
     },
     "execution_count": 287,
     "metadata": {},
     "output_type": "execute_result"
    }
   ],
   "source": [
    "data_choosen.columns"
   ]
  },
  {
   "cell_type": "markdown",
   "id": "professional-success",
   "metadata": {},
   "source": [
    "In the heat map below, it is evident that `floor_area_sqm` and `distance_to_city` does affect the `price_per_sqm`. While `remaining_lease`, `distance_to_nearest_station` and `distance_to_nearest_sch` have a lesser effect on the `price_per_sqm` of HDB apartment sold."
   ]
  },
  {
   "cell_type": "code",
   "execution_count": 288,
   "id": "cloudy-methodology",
   "metadata": {},
   "outputs": [
    {
     "data": {
      "image/png": "[encoded data removed]",
      "text/plain": [
       "<Figure size 432x288 with 2 Axes>"
      ]
     },
     "metadata": {},
     "output_type": "display_data"
    }
   ],
   "source": [
    "continuous_features = ['price_per_sqm', 'floor_area_sqm' ,'remaining_lease',\n",
    "       'distance_to_nearest_station',\n",
    "       'distance_to_nearest_sch', 'distance_to_city']\n",
    "g = sns.heatmap(data_choosen[continuous_features].corr(),annot=True, fmt = \".2f\", cmap = \"coolwarm\")"
   ]
  },
  {
   "cell_type": "markdown",
   "id": "specific-orleans",
   "metadata": {},
   "source": [
    "Now, we will split the data in chronological order in a 80/20 split."
   ]
  },
  {
   "cell_type": "code",
   "execution_count": 230,
   "id": "reliable-spotlight",
   "metadata": {},
   "outputs": [],
   "source": [
    "\"\"\"\n",
    "train = model_data[:round(0.8*len(df_model))]\n",
    "test = model_data[round(0.8*len(df_model)):]\n",
    "\n",
    "X_train = train.drop('price_per_sqm', axis=1)\n",
    "X_test = test.drop('price_per_sqm', axis=1)\n",
    "\n",
    "y_train = train['price_per_sqm']\n",
    "y_test = test['price_per_sqm']\n",
    "\"\"\""
   ]
  },
  {
   "cell_type": "code",
   "execution_count": 289,
   "id": "popular-virtue",
   "metadata": {},
   "outputs": [],
   "source": [
    "model_data = data_choosen.copy()"
   ]
  },
  {
   "cell_type": "code",
   "execution_count": 290,
   "id": "international-louis",
   "metadata": {},
   "outputs": [],
   "source": [
    "X = model_data.drop('price_per_sqm', axis=1)\n",
    "y = model_data['price_per_sqm']"
   ]
  },
  {
   "cell_type": "code",
   "execution_count": 291,
   "id": "republican-canon",
   "metadata": {},
   "outputs": [
    {
     "name": "stdout",
     "output_type": "stream",
     "text": [
      "Average price_per_sqm: 4769.712320127288\n",
      "Min price_per_sqm: 865.4899573950091\n",
      "Max price_per_sqm: 13758.832742302331\n"
     ]
    }
   ],
   "source": [
    "print('Average price_per_sqm:', y.mean())\n",
    "print('Min price_per_sqm:', y.min())\n",
    "print('Max price_per_sqm:', y.max())"
   ]
  },
  {
   "cell_type": "code",
   "execution_count": 292,
   "id": "controlling-central",
   "metadata": {},
   "outputs": [],
   "source": [
    "X_train, X_test, y_train, y_test = train_test_split(X, y, test_size=0.2, random_state=1)"
   ]
  },
  {
   "cell_type": "markdown",
   "id": "waiting-committee",
   "metadata": {},
   "source": [
    "### Lasso Regression"
   ]
  },
  {
   "cell_type": "code",
   "execution_count": 245,
   "id": "worldwide-armenia",
   "metadata": {},
   "outputs": [
    {
     "name": "stdout",
     "output_type": "stream",
     "text": [
      "Wall time: 17.3 s\n"
     ]
    },
    {
     "data": {
      "text/plain": [
       "0.4648234181900269"
      ]
     },
     "execution_count": 245,
     "metadata": {},
     "output_type": "execute_result"
    }
   ],
   "source": [
    "%%time\n",
    "model_lasso = make_pipeline(StandardScaler(),Lasso(max_iter=100000, random_state=1))\n",
    "model_lasso.fit(X_train, y_train)  # apply scaling on training data\n",
    "model_lasso.score(X_test, y_test)"
   ]
  },
  {
   "cell_type": "markdown",
   "id": "atomic-bench",
   "metadata": {},
   "source": [
    "R-Squared (score of the model) — this percentage is the explained variance of the predictions. Our model can explain only about 0.465 or 46.5% of the variance in our data. Hence, Lasso regression does not seem to be a good model of choice for predicting the `price_per_sqm` for HDB resale transaction."
   ]
  },
  {
   "cell_type": "code",
   "execution_count": 246,
   "id": "printable-subcommittee",
   "metadata": {},
   "outputs": [
    {
     "name": "stdout",
     "output_type": "stream",
     "text": [
      "Mean Absolute Error: 563.1581015019303\n",
      "Mean Squared Error: 575635.1718189536\n",
      "Root Mean Squared Error: 758.7062487016656\n"
     ]
    }
   ],
   "source": [
    "print('Mean Absolute Error:', mean_absolute_error(y_test, model_lasso.predict(X_test)))  \n",
    "print('Mean Squared Error:', mean_squared_error(y_test, model_lasso.predict(X_test)))  \n",
    "print('Root Mean Squared Error:', np.sqrt(mean_squared_error(y_test, model_lasso.predict(X_test))))"
   ]
  },
  {
   "cell_type": "markdown",
   "id": "standard-parker",
   "metadata": {},
   "source": [
    "Mean Abosulte Error gives us the average absolute value of our actual data from the model’s prediction. Our MAE is fairly small compared to the range and mean of price per sqm in our data set.\n",
    "\n",
    "However, from RMSE value, the model’s prediction will miss the actual value of the property by $758.71 on average. If we take our RMSE as a percentage of our mean price per sqm, it will give us a 16% of error rate. This is fairly high and not further emphasis that the model is not a good choice."
   ]
  },
  {
   "cell_type": "markdown",
   "id": "national-guatemala",
   "metadata": {},
   "source": [
    "### Decision Tree Regression"
   ]
  },
  {
   "cell_type": "code",
   "execution_count": 247,
   "id": "removable-employer",
   "metadata": {},
   "outputs": [
    {
     "name": "stdout",
     "output_type": "stream",
     "text": [
      "Wall time: 13 s\n"
     ]
    },
    {
     "data": {
      "text/plain": [
       "0.7893384746169623"
      ]
     },
     "execution_count": 247,
     "metadata": {},
     "output_type": "execute_result"
    }
   ],
   "source": [
    "%%time\n",
    "model_DT = make_pipeline(StandardScaler(),DecisionTreeRegressor(max_depth=40))\n",
    "model_DT.fit(X_train, y_train)\n",
    "model_DT.score(X_test, y_test)"
   ]
  },
  {
   "cell_type": "markdown",
   "id": "completed-chess",
   "metadata": {},
   "source": [
    "R-Squared (score of the model) — this percentage is the explained variance of the predictions. Our model can explain about 0.789 or 78.9% of the variance in our data. This is a significant improvement compared to Lasso Regression Model. Thus, let's explore using ensemble learning method to further improve the prediction."
   ]
  },
  {
   "cell_type": "code",
   "execution_count": 248,
   "id": "established-catalog",
   "metadata": {},
   "outputs": [
    {
     "name": "stdout",
     "output_type": "stream",
     "text": [
      "Mean Absolute Error: 323.706874983798\n",
      "Mean Squared Error: 226587.23771019833\n",
      "Root Mean Squared Error: 476.0118041710713\n"
     ]
    }
   ],
   "source": [
    "print('Mean Absolute Error:', mean_absolute_error(y_test, model_DT.predict(X_test)))  \n",
    "print('Mean Squared Error:', mean_squared_error(y_test, model_DT.predict(X_test)))  \n",
    "print('Root Mean Squared Error:', np.sqrt(mean_squared_error(y_test, model_DT.predict(X_test))))"
   ]
  },
  {
   "cell_type": "markdown",
   "id": "charitable-pizza",
   "metadata": {},
   "source": [
    "From RMSE value, the model’s prediction will miss the actual value of the property by $476 on average. If we take our RMSE as a percentage of our mean price per sqm, it will give us a 10% of error rate. This is still high. Let's see if ensemble learning method could reduce the error rate to single digit."
   ]
  },
  {
   "cell_type": "code",
   "execution_count": 249,
   "id": "exposed-female",
   "metadata": {},
   "outputs": [],
   "source": [
    "feature_importances = pd.DataFrame(model_DT.steps[1][1].feature_importances_,\n",
    "                                   index = X_train.columns,\n",
    "                                    columns=['importance']).sort_values('importance', ascending=False)"
   ]
  },
  {
   "cell_type": "code",
   "execution_count": 250,
   "id": "veterinary-speaking",
   "metadata": {},
   "outputs": [
    {
     "data": {
      "text/html": [
       "<div>\n",
       "<style scoped>\n",
       "    .dataframe tbody tr th:only-of-type {\n",
       "        vertical-align: middle;\n",
       "    }\n",
       "\n",
       "    .dataframe tbody tr th {\n",
       "        vertical-align: top;\n",
       "    }\n",
       "\n",
       "    .dataframe thead th {\n",
       "        text-align: right;\n",
       "    }\n",
       "</style>\n",
       "<table border=\"1\" class=\"dataframe\">\n",
       "  <thead>\n",
       "    <tr style=\"text-align: right;\">\n",
       "      <th></th>\n",
       "      <th>importance</th>\n",
       "    </tr>\n",
       "  </thead>\n",
       "  <tbody>\n",
       "    <tr>\n",
       "      <th>distance_to_city</th>\n",
       "      <td>0.282319</td>\n",
       "    </tr>\n",
       "    <tr>\n",
       "      <th>remaining_lease</th>\n",
       "      <td>0.219464</td>\n",
       "    </tr>\n",
       "    <tr>\n",
       "      <th>floor_area_sqm</th>\n",
       "      <td>0.213123</td>\n",
       "    </tr>\n",
       "    <tr>\n",
       "      <th>distance_to_nearest_station</th>\n",
       "      <td>0.064317</td>\n",
       "    </tr>\n",
       "    <tr>\n",
       "      <th>distance_to_nearest_sch</th>\n",
       "      <td>0.038069</td>\n",
       "    </tr>\n",
       "    <tr>\n",
       "      <th>flat_type_3 ROOM</th>\n",
       "      <td>0.020596</td>\n",
       "    </tr>\n",
       "    <tr>\n",
       "      <th>storey_range_Very High Floor</th>\n",
       "      <td>0.018182</td>\n",
       "    </tr>\n",
       "    <tr>\n",
       "      <th>storey_range_Low Floor</th>\n",
       "      <td>0.012449</td>\n",
       "    </tr>\n",
       "    <tr>\n",
       "      <th>town_CLEMENTI</th>\n",
       "      <td>0.011892</td>\n",
       "    </tr>\n",
       "    <tr>\n",
       "      <th>town_QUEENSTOWN</th>\n",
       "      <td>0.010657</td>\n",
       "    </tr>\n",
       "    <tr>\n",
       "      <th>flat_type_4 ROOM</th>\n",
       "      <td>0.009124</td>\n",
       "    </tr>\n",
       "    <tr>\n",
       "      <th>town_TAMPINES</th>\n",
       "      <td>0.008461</td>\n",
       "    </tr>\n",
       "    <tr>\n",
       "      <th>storey_range_High Floor</th>\n",
       "      <td>0.008315</td>\n",
       "    </tr>\n",
       "    <tr>\n",
       "      <th>town_MARINE PARADE</th>\n",
       "      <td>0.007280</td>\n",
       "    </tr>\n",
       "    <tr>\n",
       "      <th>town_BISHAN</th>\n",
       "      <td>0.007176</td>\n",
       "    </tr>\n",
       "    <tr>\n",
       "      <th>town_BUKIT PANJANG</th>\n",
       "      <td>0.006973</td>\n",
       "    </tr>\n",
       "    <tr>\n",
       "      <th>town_ANG MO KIO</th>\n",
       "      <td>0.005698</td>\n",
       "    </tr>\n",
       "    <tr>\n",
       "      <th>flat_type_5 ROOM</th>\n",
       "      <td>0.005513</td>\n",
       "    </tr>\n",
       "    <tr>\n",
       "      <th>town_BEDOK</th>\n",
       "      <td>0.004585</td>\n",
       "    </tr>\n",
       "    <tr>\n",
       "      <th>storey_range_Mid Floor</th>\n",
       "      <td>0.003821</td>\n",
       "    </tr>\n",
       "    <tr>\n",
       "      <th>town_HOUGANG</th>\n",
       "      <td>0.003679</td>\n",
       "    </tr>\n",
       "    <tr>\n",
       "      <th>town_SERANGOON</th>\n",
       "      <td>0.003464</td>\n",
       "    </tr>\n",
       "    <tr>\n",
       "      <th>town_BUKIT MERAH</th>\n",
       "      <td>0.003438</td>\n",
       "    </tr>\n",
       "    <tr>\n",
       "      <th>town_GEYLANG</th>\n",
       "      <td>0.003260</td>\n",
       "    </tr>\n",
       "    <tr>\n",
       "      <th>town_CHOA CHU KANG</th>\n",
       "      <td>0.002639</td>\n",
       "    </tr>\n",
       "    <tr>\n",
       "      <th>town_SENGKANG</th>\n",
       "      <td>0.002490</td>\n",
       "    </tr>\n",
       "    <tr>\n",
       "      <th>town_BUKIT TIMAH</th>\n",
       "      <td>0.002385</td>\n",
       "    </tr>\n",
       "    <tr>\n",
       "      <th>town_JURONG EAST</th>\n",
       "      <td>0.002325</td>\n",
       "    </tr>\n",
       "    <tr>\n",
       "      <th>town_JURONG WEST</th>\n",
       "      <td>0.002276</td>\n",
       "    </tr>\n",
       "    <tr>\n",
       "      <th>town_CENTRAL AREA</th>\n",
       "      <td>0.002170</td>\n",
       "    </tr>\n",
       "    <tr>\n",
       "      <th>town_TOA PAYOH</th>\n",
       "      <td>0.002028</td>\n",
       "    </tr>\n",
       "    <tr>\n",
       "      <th>town_KALLANG/WHAMPOA</th>\n",
       "      <td>0.002000</td>\n",
       "    </tr>\n",
       "    <tr>\n",
       "      <th>town_BUKIT BATOK</th>\n",
       "      <td>0.001879</td>\n",
       "    </tr>\n",
       "    <tr>\n",
       "      <th>town_YISHUN</th>\n",
       "      <td>0.001831</td>\n",
       "    </tr>\n",
       "    <tr>\n",
       "      <th>town_PASIR RIS</th>\n",
       "      <td>0.001716</td>\n",
       "    </tr>\n",
       "    <tr>\n",
       "      <th>town_WOODLANDS</th>\n",
       "      <td>0.001557</td>\n",
       "    </tr>\n",
       "    <tr>\n",
       "      <th>flat_type_EXECUTIVE</th>\n",
       "      <td>0.001062</td>\n",
       "    </tr>\n",
       "    <tr>\n",
       "      <th>town_PUNGGOL</th>\n",
       "      <td>0.000950</td>\n",
       "    </tr>\n",
       "    <tr>\n",
       "      <th>flat_type_2 ROOM</th>\n",
       "      <td>0.000556</td>\n",
       "    </tr>\n",
       "    <tr>\n",
       "      <th>flat_type_1 ROOM</th>\n",
       "      <td>0.000117</td>\n",
       "    </tr>\n",
       "    <tr>\n",
       "      <th>town_SEMBAWANG</th>\n",
       "      <td>0.000113</td>\n",
       "    </tr>\n",
       "    <tr>\n",
       "      <th>flat_type_MULTI GENERATION</th>\n",
       "      <td>0.000032</td>\n",
       "    </tr>\n",
       "    <tr>\n",
       "      <th>town_LIM CHU KANG</th>\n",
       "      <td>0.000019</td>\n",
       "    </tr>\n",
       "  </tbody>\n",
       "</table>\n",
       "</div>"
      ],
      "text/plain": [
       "                              importance\n",
       "distance_to_city                0.282319\n",
       "remaining_lease                 0.219464\n",
       "floor_area_sqm                  0.213123\n",
       "distance_to_nearest_station     0.064317\n",
       "distance_to_nearest_sch         0.038069\n",
       "flat_type_3 ROOM                0.020596\n",
       "storey_range_Very High Floor    0.018182\n",
       "storey_range_Low Floor          0.012449\n",
       "town_CLEMENTI                   0.011892\n",
       "town_QUEENSTOWN                 0.010657\n",
       "flat_type_4 ROOM                0.009124\n",
       "town_TAMPINES                   0.008461\n",
       "storey_range_High Floor         0.008315\n",
       "town_MARINE PARADE              0.007280\n",
       "town_BISHAN                     0.007176\n",
       "town_BUKIT PANJANG              0.006973\n",
       "town_ANG MO KIO                 0.005698\n",
       "flat_type_5 ROOM                0.005513\n",
       "town_BEDOK                      0.004585\n",
       "storey_range_Mid Floor          0.003821\n",
       "town_HOUGANG                    0.003679\n",
       "town_SERANGOON                  0.003464\n",
       "town_BUKIT MERAH                0.003438\n",
       "town_GEYLANG                    0.003260\n",
       "town_CHOA CHU KANG              0.002639\n",
       "town_SENGKANG                   0.002490\n",
       "town_BUKIT TIMAH                0.002385\n",
       "town_JURONG EAST                0.002325\n",
       "town_JURONG WEST                0.002276\n",
       "town_CENTRAL AREA               0.002170\n",
       "town_TOA PAYOH                  0.002028\n",
       "town_KALLANG/WHAMPOA            0.002000\n",
       "town_BUKIT BATOK                0.001879\n",
       "town_YISHUN                     0.001831\n",
       "town_PASIR RIS                  0.001716\n",
       "town_WOODLANDS                  0.001557\n",
       "flat_type_EXECUTIVE             0.001062\n",
       "town_PUNGGOL                    0.000950\n",
       "flat_type_2 ROOM                0.000556\n",
       "flat_type_1 ROOM                0.000117\n",
       "town_SEMBAWANG                  0.000113\n",
       "flat_type_MULTI GENERATION      0.000032\n",
       "town_LIM CHU KANG               0.000019"
      ]
     },
     "execution_count": 250,
     "metadata": {},
     "output_type": "execute_result"
    }
   ],
   "source": [
    "feature_importances"
   ]
  },
  {
   "cell_type": "markdown",
   "id": "potential-feature",
   "metadata": {},
   "source": [
    "### Random Forest Regression"
   ]
  },
  {
   "cell_type": "code",
   "execution_count": 251,
   "id": "corporate-breed",
   "metadata": {},
   "outputs": [
    {
     "name": "stdout",
     "output_type": "stream",
     "text": [
      "Wall time: 13min 43s\n"
     ]
    },
    {
     "data": {
      "text/plain": [
       "0.8585493709357035"
      ]
     },
     "execution_count": 251,
     "metadata": {},
     "output_type": "execute_result"
    }
   ],
   "source": [
    "%%time\n",
    "model_RFR = make_pipeline(StandardScaler(),RandomForestRegressor(random_state=1))\n",
    "model_RFR.fit(X_train, y_train)  # apply scaling on training data\n",
    "model_RFR.score(X_test, y_test)"
   ]
  },
  {
   "cell_type": "markdown",
   "id": "underlying-poison",
   "metadata": {},
   "source": [
    "R-Squared (score of the model) — this percentage is the explained variance of the predictions. Our model can explain about 0.859 or 85.9% of the variance in our data. Again, ensemble method indeed helps to improve the model prediction capability."
   ]
  },
  {
   "cell_type": "code",
   "execution_count": 252,
   "id": "knowing-temperature",
   "metadata": {
    "scrolled": true
   },
   "outputs": [
    {
     "name": "stdout",
     "output_type": "stream",
     "text": [
      "Mean Absolute Error: 267.9025988140442\n",
      "Mean Squared Error: 152144.09586075062\n",
      "Root Mean Squared Error: 390.0565290579695\n"
     ]
    }
   ],
   "source": [
    "print('Mean Absolute Error:', mean_absolute_error(y_test, model_RFR.predict(X_test)))  \n",
    "print('Mean Squared Error:', mean_squared_error(y_test, model_RFR.predict(X_test)))  \n",
    "print('Root Mean Squared Error:', np.sqrt(mean_squared_error(y_test, model_RFR.predict(X_test))))"
   ]
  },
  {
   "cell_type": "markdown",
   "id": "bearing-implement",
   "metadata": {},
   "source": [
    "From RMSE value, the model’s prediction will miss the actual value of the property by $390 on average. This bring our error rate to approximately 8%. This is a significant improvement as compared to our very initial model."
   ]
  },
  {
   "cell_type": "code",
   "execution_count": 253,
   "id": "casual-roots",
   "metadata": {},
   "outputs": [],
   "source": [
    "feature_importances = pd.DataFrame(model_RFR.steps[1][1].feature_importances_,\n",
    "                                   index = X_train.columns,\n",
    "                                    columns=['importance']).sort_values('importance', ascending=False)"
   ]
  },
  {
   "cell_type": "code",
   "execution_count": 254,
   "id": "minute-beaver",
   "metadata": {
    "scrolled": false
   },
   "outputs": [
    {
     "data": {
      "text/html": [
       "<div>\n",
       "<style scoped>\n",
       "    .dataframe tbody tr th:only-of-type {\n",
       "        vertical-align: middle;\n",
       "    }\n",
       "\n",
       "    .dataframe tbody tr th {\n",
       "        vertical-align: top;\n",
       "    }\n",
       "\n",
       "    .dataframe thead th {\n",
       "        text-align: right;\n",
       "    }\n",
       "</style>\n",
       "<table border=\"1\" class=\"dataframe\">\n",
       "  <thead>\n",
       "    <tr style=\"text-align: right;\">\n",
       "      <th></th>\n",
       "      <th>importance</th>\n",
       "    </tr>\n",
       "  </thead>\n",
       "  <tbody>\n",
       "    <tr>\n",
       "      <th>distance_to_city</th>\n",
       "      <td>0.278786</td>\n",
       "    </tr>\n",
       "    <tr>\n",
       "      <th>remaining_lease</th>\n",
       "      <td>0.219799</td>\n",
       "    </tr>\n",
       "    <tr>\n",
       "      <th>floor_area_sqm</th>\n",
       "      <td>0.210328</td>\n",
       "    </tr>\n",
       "    <tr>\n",
       "      <th>distance_to_nearest_station</th>\n",
       "      <td>0.068235</td>\n",
       "    </tr>\n",
       "    <tr>\n",
       "      <th>distance_to_nearest_sch</th>\n",
       "      <td>0.043116</td>\n",
       "    </tr>\n",
       "    <tr>\n",
       "      <th>flat_type_3 ROOM</th>\n",
       "      <td>0.020884</td>\n",
       "    </tr>\n",
       "    <tr>\n",
       "      <th>storey_range_Very High Floor</th>\n",
       "      <td>0.018493</td>\n",
       "    </tr>\n",
       "    <tr>\n",
       "      <th>storey_range_Low Floor</th>\n",
       "      <td>0.012666</td>\n",
       "    </tr>\n",
       "    <tr>\n",
       "      <th>town_CLEMENTI</th>\n",
       "      <td>0.011947</td>\n",
       "    </tr>\n",
       "    <tr>\n",
       "      <th>town_QUEENSTOWN</th>\n",
       "      <td>0.009202</td>\n",
       "    </tr>\n",
       "    <tr>\n",
       "      <th>flat_type_4 ROOM</th>\n",
       "      <td>0.008536</td>\n",
       "    </tr>\n",
       "    <tr>\n",
       "      <th>town_TAMPINES</th>\n",
       "      <td>0.008048</td>\n",
       "    </tr>\n",
       "    <tr>\n",
       "      <th>storey_range_High Floor</th>\n",
       "      <td>0.007937</td>\n",
       "    </tr>\n",
       "    <tr>\n",
       "      <th>town_BUKIT PANJANG</th>\n",
       "      <td>0.007094</td>\n",
       "    </tr>\n",
       "    <tr>\n",
       "      <th>town_BISHAN</th>\n",
       "      <td>0.007005</td>\n",
       "    </tr>\n",
       "    <tr>\n",
       "      <th>flat_type_5 ROOM</th>\n",
       "      <td>0.006800</td>\n",
       "    </tr>\n",
       "    <tr>\n",
       "      <th>town_ANG MO KIO</th>\n",
       "      <td>0.006087</td>\n",
       "    </tr>\n",
       "    <tr>\n",
       "      <th>town_BEDOK</th>\n",
       "      <td>0.004395</td>\n",
       "    </tr>\n",
       "    <tr>\n",
       "      <th>town_MARINE PARADE</th>\n",
       "      <td>0.004068</td>\n",
       "    </tr>\n",
       "    <tr>\n",
       "      <th>storey_range_Mid Floor</th>\n",
       "      <td>0.004016</td>\n",
       "    </tr>\n",
       "    <tr>\n",
       "      <th>town_SERANGOON</th>\n",
       "      <td>0.003559</td>\n",
       "    </tr>\n",
       "    <tr>\n",
       "      <th>town_HOUGANG</th>\n",
       "      <td>0.003522</td>\n",
       "    </tr>\n",
       "    <tr>\n",
       "      <th>town_BUKIT MERAH</th>\n",
       "      <td>0.003326</td>\n",
       "    </tr>\n",
       "    <tr>\n",
       "      <th>town_GEYLANG</th>\n",
       "      <td>0.003303</td>\n",
       "    </tr>\n",
       "    <tr>\n",
       "      <th>town_CHOA CHU KANG</th>\n",
       "      <td>0.002682</td>\n",
       "    </tr>\n",
       "    <tr>\n",
       "      <th>town_SENGKANG</th>\n",
       "      <td>0.002618</td>\n",
       "    </tr>\n",
       "    <tr>\n",
       "      <th>town_BUKIT TIMAH</th>\n",
       "      <td>0.002485</td>\n",
       "    </tr>\n",
       "    <tr>\n",
       "      <th>town_KALLANG/WHAMPOA</th>\n",
       "      <td>0.002350</td>\n",
       "    </tr>\n",
       "    <tr>\n",
       "      <th>town_WOODLANDS</th>\n",
       "      <td>0.002314</td>\n",
       "    </tr>\n",
       "    <tr>\n",
       "      <th>town_JURONG EAST</th>\n",
       "      <td>0.002087</td>\n",
       "    </tr>\n",
       "    <tr>\n",
       "      <th>town_BUKIT BATOK</th>\n",
       "      <td>0.001974</td>\n",
       "    </tr>\n",
       "    <tr>\n",
       "      <th>town_CENTRAL AREA</th>\n",
       "      <td>0.001956</td>\n",
       "    </tr>\n",
       "    <tr>\n",
       "      <th>town_TOA PAYOH</th>\n",
       "      <td>0.001947</td>\n",
       "    </tr>\n",
       "    <tr>\n",
       "      <th>town_PASIR RIS</th>\n",
       "      <td>0.001807</td>\n",
       "    </tr>\n",
       "    <tr>\n",
       "      <th>town_YISHUN</th>\n",
       "      <td>0.001727</td>\n",
       "    </tr>\n",
       "    <tr>\n",
       "      <th>town_JURONG WEST</th>\n",
       "      <td>0.001680</td>\n",
       "    </tr>\n",
       "    <tr>\n",
       "      <th>town_PUNGGOL</th>\n",
       "      <td>0.001044</td>\n",
       "    </tr>\n",
       "    <tr>\n",
       "      <th>flat_type_EXECUTIVE</th>\n",
       "      <td>0.001032</td>\n",
       "    </tr>\n",
       "    <tr>\n",
       "      <th>flat_type_2 ROOM</th>\n",
       "      <td>0.000680</td>\n",
       "    </tr>\n",
       "    <tr>\n",
       "      <th>town_SEMBAWANG</th>\n",
       "      <td>0.000317</td>\n",
       "    </tr>\n",
       "    <tr>\n",
       "      <th>flat_type_1 ROOM</th>\n",
       "      <td>0.000118</td>\n",
       "    </tr>\n",
       "    <tr>\n",
       "      <th>flat_type_MULTI GENERATION</th>\n",
       "      <td>0.000019</td>\n",
       "    </tr>\n",
       "    <tr>\n",
       "      <th>town_LIM CHU KANG</th>\n",
       "      <td>0.000007</td>\n",
       "    </tr>\n",
       "  </tbody>\n",
       "</table>\n",
       "</div>"
      ],
      "text/plain": [
       "                              importance\n",
       "distance_to_city                0.278786\n",
       "remaining_lease                 0.219799\n",
       "floor_area_sqm                  0.210328\n",
       "distance_to_nearest_station     0.068235\n",
       "distance_to_nearest_sch         0.043116\n",
       "flat_type_3 ROOM                0.020884\n",
       "storey_range_Very High Floor    0.018493\n",
       "storey_range_Low Floor          0.012666\n",
       "town_CLEMENTI                   0.011947\n",
       "town_QUEENSTOWN                 0.009202\n",
       "flat_type_4 ROOM                0.008536\n",
       "town_TAMPINES                   0.008048\n",
       "storey_range_High Floor         0.007937\n",
       "town_BUKIT PANJANG              0.007094\n",
       "town_BISHAN                     0.007005\n",
       "flat_type_5 ROOM                0.006800\n",
       "town_ANG MO KIO                 0.006087\n",
       "town_BEDOK                      0.004395\n",
       "town_MARINE PARADE              0.004068\n",
       "storey_range_Mid Floor          0.004016\n",
       "town_SERANGOON                  0.003559\n",
       "town_HOUGANG                    0.003522\n",
       "town_BUKIT MERAH                0.003326\n",
       "town_GEYLANG                    0.003303\n",
       "town_CHOA CHU KANG              0.002682\n",
       "town_SENGKANG                   0.002618\n",
       "town_BUKIT TIMAH                0.002485\n",
       "town_KALLANG/WHAMPOA            0.002350\n",
       "town_WOODLANDS                  0.002314\n",
       "town_JURONG EAST                0.002087\n",
       "town_BUKIT BATOK                0.001974\n",
       "town_CENTRAL AREA               0.001956\n",
       "town_TOA PAYOH                  0.001947\n",
       "town_PASIR RIS                  0.001807\n",
       "town_YISHUN                     0.001727\n",
       "town_JURONG WEST                0.001680\n",
       "town_PUNGGOL                    0.001044\n",
       "flat_type_EXECUTIVE             0.001032\n",
       "flat_type_2 ROOM                0.000680\n",
       "town_SEMBAWANG                  0.000317\n",
       "flat_type_1 ROOM                0.000118\n",
       "flat_type_MULTI GENERATION      0.000019\n",
       "town_LIM CHU KANG               0.000007"
      ]
     },
     "execution_count": 254,
     "metadata": {},
     "output_type": "execute_result"
    }
   ],
   "source": [
    "feature_importances"
   ]
  },
  {
   "cell_type": "markdown",
   "id": "involved-first",
   "metadata": {},
   "source": [
    "## Improving Baseline Model"
   ]
  },
  {
   "cell_type": "markdown",
   "id": "greenhouse-aaron",
   "metadata": {},
   "source": [
    "While the ensemble method of using random forest regression reduce prediction error rate to 8%, I believe there is further room for improvement.\n",
    "\n",
    "Remember that we did normalisation of HDB resale prices to 1Q2021 based on resale index provided by data.gov? This would still not account accurately for other variables like improve amenities over the years. In addition, the resale index does not account for individual district but rather, all the HDB transaction as a hold. Thus, if we are going to use data closer to 2021, we may be able to yield better results.\n",
    "\n",
    "As such, in the following, we will be taking data from 2016 onwards for prediction to see if there is any improvement to the models. On a side note, it will also reduces the time complexity of the model due to lesser data."
   ]
  },
  {
   "cell_type": "code",
   "execution_count": null,
   "id": "hundred-watts",
   "metadata": {},
   "outputs": [],
   "source": [
    "#HDB_data_processed['flat_type'].value_counts()"
   ]
  },
  {
   "cell_type": "code",
   "execution_count": 294,
   "id": "prompt-louisiana",
   "metadata": {},
   "outputs": [],
   "source": [
    "data_choosen['year'] = HDB_data_processed['year']"
   ]
  },
  {
   "cell_type": "code",
   "execution_count": 309,
   "id": "stone-factor",
   "metadata": {
    "scrolled": true
   },
   "outputs": [],
   "source": [
    "data = data_choosen.loc[(HDB_data_processed['year'].astype(int) >=2016)]\n",
    "# = data_choosen.loc[(HDB_data_processed['year'].astype(int) >=2021)]"
   ]
  },
  {
   "cell_type": "code",
   "execution_count": 310,
   "id": "analyzed-german",
   "metadata": {},
   "outputs": [],
   "source": [
    "X_ = data.drop(['price_per_sqm','year'], axis=1)\n",
    "y_ = data['price_per_sqm']"
   ]
  },
  {
   "cell_type": "code",
   "execution_count": 313,
   "id": "minor-tract",
   "metadata": {},
   "outputs": [],
   "source": [
    "X_train_, X_test_, y_train_, y_test_ = train_test_split(X_, y_, test_size=0.2, random_state=1)"
   ]
  },
  {
   "cell_type": "markdown",
   "id": "competent-dynamics",
   "metadata": {},
   "source": [
    "### Lasso Regression"
   ]
  },
  {
   "cell_type": "code",
   "execution_count": 315,
   "id": "weighted-walker",
   "metadata": {},
   "outputs": [
    {
     "name": "stdout",
     "output_type": "stream",
     "text": [
      "Wall time: 1.32 s\n"
     ]
    },
    {
     "data": {
      "text/plain": [
       "0.7956972246859556"
      ]
     },
     "execution_count": 315,
     "metadata": {},
     "output_type": "execute_result"
    }
   ],
   "source": [
    "%%time\n",
    "model_lasso_ = make_pipeline(StandardScaler(),Lasso(max_iter=1000000, random_state=1))\n",
    "model_lasso_.fit(X_train_, y_train_)  # apply scaling on training data\n",
    "model_lasso_.score(X_test_, y_test_)"
   ]
  },
  {
   "cell_type": "code",
   "execution_count": 316,
   "id": "following-fabric",
   "metadata": {},
   "outputs": [
    {
     "name": "stdout",
     "output_type": "stream",
     "text": [
      "Mean Absolute Error: 439.6498572432081\n",
      "Mean Squared Error: 343441.40387233\n",
      "Root Mean Squared Error: 586.0387392249168\n"
     ]
    }
   ],
   "source": [
    "print('Mean Absolute Error:', mean_absolute_error(y_test_, model_lasso_.predict(X_test_)))  \n",
    "print('Mean Squared Error:', mean_squared_error(y_test_, model_lasso_.predict(X_test_)))  \n",
    "print('Root Mean Squared Error:', np.sqrt(mean_squared_error(y_test_, model_lasso_.predict(X_test_))))"
   ]
  },
  {
   "cell_type": "markdown",
   "id": "severe-armor",
   "metadata": {},
   "source": [
    "Evidently, the improvement in model score improved by approximately 25%. Similarly, RMSE has dropped from $758 to $586. This showed understanding the dataset will allow better model prediction capability. "
   ]
  },
  {
   "cell_type": "markdown",
   "id": "after-legislature",
   "metadata": {},
   "source": [
    "### Decision Tree Regression"
   ]
  },
  {
   "cell_type": "code",
   "execution_count": 317,
   "id": "republican-worker",
   "metadata": {},
   "outputs": [
    {
     "name": "stdout",
     "output_type": "stream",
     "text": [
      "Wall time: 1.61 s\n"
     ]
    },
    {
     "data": {
      "text/plain": [
       "0.9166268137262923"
      ]
     },
     "execution_count": 317,
     "metadata": {},
     "output_type": "execute_result"
    }
   ],
   "source": [
    "%%time\n",
    "model_DT_ = make_pipeline(StandardScaler(),DecisionTreeRegressor(max_depth=40))\n",
    "model_DT_.fit(X_train_, y_train_)\n",
    "model_DT_.score(X_test_, y_test_)"
   ]
  },
  {
   "cell_type": "code",
   "execution_count": 318,
   "id": "marine-psychiatry",
   "metadata": {},
   "outputs": [
    {
     "name": "stdout",
     "output_type": "stream",
     "text": [
      "Mean Absolute Error: 267.16951125096455\n",
      "Mean Squared Error: 140153.7697916093\n",
      "Root Mean Squared Error: 374.3711658122314\n"
     ]
    }
   ],
   "source": [
    "print('Mean Absolute Error:', mean_absolute_error(y_test_, model_DT_.predict(X_test_)))  \n",
    "print('Mean Squared Error:', mean_squared_error(y_test_, model_DT_.predict(X_test_)))  \n",
    "print('Root Mean Squared Error:', np.sqrt(mean_squared_error(y_test_, model_DT_.predict(X_test_))))"
   ]
  },
  {
   "cell_type": "markdown",
   "id": "younger-sequence",
   "metadata": {},
   "source": [
    "### Random Forest Regression"
   ]
  },
  {
   "cell_type": "code",
   "execution_count": 319,
   "id": "restricted-formation",
   "metadata": {},
   "outputs": [
    {
     "name": "stdout",
     "output_type": "stream",
     "text": [
      "Wall time: 1min 36s\n"
     ]
    },
    {
     "data": {
      "text/plain": [
       "0.946744925197173"
      ]
     },
     "execution_count": 319,
     "metadata": {},
     "output_type": "execute_result"
    }
   ],
   "source": [
    "%%time\n",
    "model_RFR_ = make_pipeline(StandardScaler(),RandomForestRegressor(random_state=1))\n",
    "model_RFR_.fit(X_train_, y_train_)  # apply scaling on training data\n",
    "model_RFR_.score(X_test_, y_test_)"
   ]
  },
  {
   "cell_type": "code",
   "execution_count": 320,
   "id": "lightweight-publicity",
   "metadata": {},
   "outputs": [
    {
     "name": "stdout",
     "output_type": "stream",
     "text": [
      "Mean Absolute Error: 216.45336728950912\n",
      "Mean Squared Error: 89523.98040356692\n",
      "Root Mean Squared Error: 299.2055821731388\n"
     ]
    }
   ],
   "source": [
    "print('Mean Absolute Error:', mean_absolute_error(y_test_, model_RFR_.predict(X_test_)))  \n",
    "print('Mean Squared Error:', mean_squared_error(y_test_, model_RFR_.predict(X_test_)))  \n",
    "print('Root Mean Squared Error:', np.sqrt(mean_squared_error(y_test_, model_RFR_.predict(X_test_))))"
   ]
  },
  {
   "cell_type": "code",
   "execution_count": 321,
   "id": "utility-pharmaceutical",
   "metadata": {},
   "outputs": [],
   "source": [
    "feature_importances__ = pd.DataFrame(model_RFR_.steps[1][1].feature_importances_,\n",
    "                                   index = X_train_.columns,\n",
    "                                    columns=['importance']).sort_values('importance', ascending=False)"
   ]
  },
  {
   "cell_type": "code",
   "execution_count": 322,
   "id": "adequate-accountability",
   "metadata": {
    "scrolled": true
   },
   "outputs": [
    {
     "data": {
      "text/html": [
       "<div>\n",
       "<style scoped>\n",
       "    .dataframe tbody tr th:only-of-type {\n",
       "        vertical-align: middle;\n",
       "    }\n",
       "\n",
       "    .dataframe tbody tr th {\n",
       "        vertical-align: top;\n",
       "    }\n",
       "\n",
       "    .dataframe thead th {\n",
       "        text-align: right;\n",
       "    }\n",
       "</style>\n",
       "<table border=\"1\" class=\"dataframe\">\n",
       "  <thead>\n",
       "    <tr style=\"text-align: right;\">\n",
       "      <th></th>\n",
       "      <th>importance</th>\n",
       "    </tr>\n",
       "  </thead>\n",
       "  <tbody>\n",
       "    <tr>\n",
       "      <th>distance_to_city</th>\n",
       "      <td>0.418590</td>\n",
       "    </tr>\n",
       "    <tr>\n",
       "      <th>remaining_lease</th>\n",
       "      <td>0.366870</td>\n",
       "    </tr>\n",
       "    <tr>\n",
       "      <th>distance_to_nearest_station</th>\n",
       "      <td>0.047400</td>\n",
       "    </tr>\n",
       "    <tr>\n",
       "      <th>floor_area_sqm</th>\n",
       "      <td>0.037821</td>\n",
       "    </tr>\n",
       "    <tr>\n",
       "      <th>distance_to_nearest_sch</th>\n",
       "      <td>0.022545</td>\n",
       "    </tr>\n",
       "    <tr>\n",
       "      <th>storey_range_Low Floor</th>\n",
       "      <td>0.016835</td>\n",
       "    </tr>\n",
       "    <tr>\n",
       "      <th>town_TAMPINES</th>\n",
       "      <td>0.011138</td>\n",
       "    </tr>\n",
       "    <tr>\n",
       "      <th>storey_range_Very High Floor</th>\n",
       "      <td>0.009803</td>\n",
       "    </tr>\n",
       "    <tr>\n",
       "      <th>town_BUKIT TIMAH</th>\n",
       "      <td>0.006664</td>\n",
       "    </tr>\n",
       "    <tr>\n",
       "      <th>town_HOUGANG</th>\n",
       "      <td>0.006581</td>\n",
       "    </tr>\n",
       "    <tr>\n",
       "      <th>town_CLEMENTI</th>\n",
       "      <td>0.005911</td>\n",
       "    </tr>\n",
       "    <tr>\n",
       "      <th>town_BISHAN</th>\n",
       "      <td>0.003446</td>\n",
       "    </tr>\n",
       "    <tr>\n",
       "      <th>town_JURONG WEST</th>\n",
       "      <td>0.003189</td>\n",
       "    </tr>\n",
       "    <tr>\n",
       "      <th>town_GEYLANG</th>\n",
       "      <td>0.003093</td>\n",
       "    </tr>\n",
       "    <tr>\n",
       "      <th>town_QUEENSTOWN</th>\n",
       "      <td>0.003014</td>\n",
       "    </tr>\n",
       "    <tr>\n",
       "      <th>flat_type_4 ROOM</th>\n",
       "      <td>0.002825</td>\n",
       "    </tr>\n",
       "    <tr>\n",
       "      <th>storey_range_High Floor</th>\n",
       "      <td>0.002615</td>\n",
       "    </tr>\n",
       "    <tr>\n",
       "      <th>town_ANG MO KIO</th>\n",
       "      <td>0.002391</td>\n",
       "    </tr>\n",
       "    <tr>\n",
       "      <th>flat_type_3 ROOM</th>\n",
       "      <td>0.002360</td>\n",
       "    </tr>\n",
       "    <tr>\n",
       "      <th>flat_type_EXECUTIVE</th>\n",
       "      <td>0.002141</td>\n",
       "    </tr>\n",
       "    <tr>\n",
       "      <th>town_CHOA CHU KANG</th>\n",
       "      <td>0.001981</td>\n",
       "    </tr>\n",
       "    <tr>\n",
       "      <th>town_JURONG EAST</th>\n",
       "      <td>0.001944</td>\n",
       "    </tr>\n",
       "    <tr>\n",
       "      <th>town_BUKIT PANJANG</th>\n",
       "      <td>0.001836</td>\n",
       "    </tr>\n",
       "    <tr>\n",
       "      <th>town_KALLANG/WHAMPOA</th>\n",
       "      <td>0.001835</td>\n",
       "    </tr>\n",
       "    <tr>\n",
       "      <th>town_PASIR RIS</th>\n",
       "      <td>0.001823</td>\n",
       "    </tr>\n",
       "    <tr>\n",
       "      <th>town_BUKIT MERAH</th>\n",
       "      <td>0.001748</td>\n",
       "    </tr>\n",
       "    <tr>\n",
       "      <th>storey_range_Mid Floor</th>\n",
       "      <td>0.001723</td>\n",
       "    </tr>\n",
       "    <tr>\n",
       "      <th>town_BEDOK</th>\n",
       "      <td>0.001602</td>\n",
       "    </tr>\n",
       "    <tr>\n",
       "      <th>town_YISHUN</th>\n",
       "      <td>0.001324</td>\n",
       "    </tr>\n",
       "    <tr>\n",
       "      <th>town_CENTRAL AREA</th>\n",
       "      <td>0.001282</td>\n",
       "    </tr>\n",
       "    <tr>\n",
       "      <th>town_SENGKANG</th>\n",
       "      <td>0.001179</td>\n",
       "    </tr>\n",
       "    <tr>\n",
       "      <th>town_PUNGGOL</th>\n",
       "      <td>0.001083</td>\n",
       "    </tr>\n",
       "    <tr>\n",
       "      <th>flat_type_5 ROOM</th>\n",
       "      <td>0.001075</td>\n",
       "    </tr>\n",
       "    <tr>\n",
       "      <th>town_TOA PAYOH</th>\n",
       "      <td>0.001048</td>\n",
       "    </tr>\n",
       "    <tr>\n",
       "      <th>town_SERANGOON</th>\n",
       "      <td>0.000951</td>\n",
       "    </tr>\n",
       "    <tr>\n",
       "      <th>town_BUKIT BATOK</th>\n",
       "      <td>0.000783</td>\n",
       "    </tr>\n",
       "    <tr>\n",
       "      <th>town_MARINE PARADE</th>\n",
       "      <td>0.000505</td>\n",
       "    </tr>\n",
       "    <tr>\n",
       "      <th>flat_type_2 ROOM</th>\n",
       "      <td>0.000436</td>\n",
       "    </tr>\n",
       "    <tr>\n",
       "      <th>town_WOODLANDS</th>\n",
       "      <td>0.000328</td>\n",
       "    </tr>\n",
       "    <tr>\n",
       "      <th>town_SEMBAWANG</th>\n",
       "      <td>0.000144</td>\n",
       "    </tr>\n",
       "    <tr>\n",
       "      <th>flat_type_1 ROOM</th>\n",
       "      <td>0.000089</td>\n",
       "    </tr>\n",
       "    <tr>\n",
       "      <th>flat_type_MULTI GENERATION</th>\n",
       "      <td>0.000048</td>\n",
       "    </tr>\n",
       "    <tr>\n",
       "      <th>town_LIM CHU KANG</th>\n",
       "      <td>0.000000</td>\n",
       "    </tr>\n",
       "  </tbody>\n",
       "</table>\n",
       "</div>"
      ],
      "text/plain": [
       "                              importance\n",
       "distance_to_city                0.418590\n",
       "remaining_lease                 0.366870\n",
       "distance_to_nearest_station     0.047400\n",
       "floor_area_sqm                  0.037821\n",
       "distance_to_nearest_sch         0.022545\n",
       "storey_range_Low Floor          0.016835\n",
       "town_TAMPINES                   0.011138\n",
       "storey_range_Very High Floor    0.009803\n",
       "town_BUKIT TIMAH                0.006664\n",
       "town_HOUGANG                    0.006581\n",
       "town_CLEMENTI                   0.005911\n",
       "town_BISHAN                     0.003446\n",
       "town_JURONG WEST                0.003189\n",
       "town_GEYLANG                    0.003093\n",
       "town_QUEENSTOWN                 0.003014\n",
       "flat_type_4 ROOM                0.002825\n",
       "storey_range_High Floor         0.002615\n",
       "town_ANG MO KIO                 0.002391\n",
       "flat_type_3 ROOM                0.002360\n",
       "flat_type_EXECUTIVE             0.002141\n",
       "town_CHOA CHU KANG              0.001981\n",
       "town_JURONG EAST                0.001944\n",
       "town_BUKIT PANJANG              0.001836\n",
       "town_KALLANG/WHAMPOA            0.001835\n",
       "town_PASIR RIS                  0.001823\n",
       "town_BUKIT MERAH                0.001748\n",
       "storey_range_Mid Floor          0.001723\n",
       "town_BEDOK                      0.001602\n",
       "town_YISHUN                     0.001324\n",
       "town_CENTRAL AREA               0.001282\n",
       "town_SENGKANG                   0.001179\n",
       "town_PUNGGOL                    0.001083\n",
       "flat_type_5 ROOM                0.001075\n",
       "town_TOA PAYOH                  0.001048\n",
       "town_SERANGOON                  0.000951\n",
       "town_BUKIT BATOK                0.000783\n",
       "town_MARINE PARADE              0.000505\n",
       "flat_type_2 ROOM                0.000436\n",
       "town_WOODLANDS                  0.000328\n",
       "town_SEMBAWANG                  0.000144\n",
       "flat_type_1 ROOM                0.000089\n",
       "flat_type_MULTI GENERATION      0.000048\n",
       "town_LIM CHU KANG               0.000000"
      ]
     },
     "execution_count": 322,
     "metadata": {},
     "output_type": "execute_result"
    }
   ],
   "source": [
    "feature_importances__"
   ]
  },
  {
   "cell_type": "markdown",
   "id": "understood-tuition",
   "metadata": {},
   "source": [
    "From the 3 regression model we tested, it is clear that ensemble method helps to improve model prediction capability as long as every single estimator in ensemble learning is capable of prediction better than random guessing. Thus, in most ML algorithm, ensemble methods are preferred.\n",
    "\n",
    "Also, note that, no hyper-parameters tuning was done in this exercise. Performance would probably improve with hyper-parameter tuning and lastly, k-fold cross validation would be a better way of validating model performance compared to train-test split done in this exercise."
   ]
  },
  {
   "cell_type": "code",
   "execution_count": 323,
   "id": "least-local",
   "metadata": {},
   "outputs": [
    {
     "name": "stdout",
     "output_type": "stream",
     "text": [
      "Wall time: 1.43 s\n"
     ]
    },
    {
     "data": {
      "text/plain": [
       "0.9148495360126282"
      ]
     },
     "execution_count": 323,
     "metadata": {},
     "output_type": "execute_result"
    }
   ],
   "source": [
    "%%time\n",
    "model_LGBM = make_pipeline(StandardScaler(),lgb.LGBMRegressor(objective='regression',\n",
    "                                                             random_state=1))\n",
    "model_LGBM.fit(X_train_, y_train_)  # apply scaling on training data\n",
    "model_LGBM.score(X_test_, y_test_)"
   ]
  },
  {
   "cell_type": "code",
   "execution_count": 324,
   "id": "presidential-narrative",
   "metadata": {},
   "outputs": [
    {
     "name": "stdout",
     "output_type": "stream",
     "text": [
      "Mean Absolute Error: 281.6668924212673\n",
      "Mean Squared Error: 143141.4470373713\n",
      "Root Mean Squared Error: 378.34038515253866\n"
     ]
    }
   ],
   "source": [
    "print('Mean Absolute Error:', mean_absolute_error(y_test_, model_LGBM.predict(X_test_)))  \n",
    "print('Mean Squared Error:', mean_squared_error(y_test_, model_LGBM.predict(X_test_)))  \n",
    "print('Root Mean Squared Error:', np.sqrt(mean_squared_error(y_test_, model_LGBM.predict(X_test_))))"
   ]
  },
  {
   "cell_type": "markdown",
   "id": "blessed-adrian",
   "metadata": {},
   "source": [
    "### Testing on real data"
   ]
  },
  {
   "cell_type": "code",
   "execution_count": 357,
   "id": "distinguished-maldives",
   "metadata": {},
   "outputs": [],
   "source": [
    "import pickle\n",
    "\n",
    "filename = 'finalized_model.sav'\n",
    "\n",
    "# saving/loading data\n",
    "if os.path.exists(\"./finalized_model.sav\"):\n",
    "    model_RFR_ = pickle.load(open(filename, 'rb'))\n",
    "else:\n",
    "    pickle.dump(model_RFR_, open(filename, 'wb'))"
   ]
  },
  {
   "cell_type": "markdown",
   "id": "brown-listening",
   "metadata": {},
   "source": [
    "Real data can be obtained from PropertyGuru <br>\n",
    "www.propertyguru.com.sg"
   ]
  },
  {
   "cell_type": "code",
   "execution_count": 390,
   "id": "assigned-coach",
   "metadata": {},
   "outputs": [],
   "source": [
    "Actual = pd.DataFrame({\n",
    "    'floor_area_sqm': 1001*0.092903, #sqft * conversion factor to sqm\n",
    "    'remaining_lease': 89,\n",
    "    'distance_to_nearest_station': 0.24,\n",
    "    'distance_to_nearest_sch': 0.47,\n",
    "    'distance_to_city': 14, #straight distance from HDB to city hall\n",
    "    'town_ANG MO KIO': 0,\n",
    "    'town_BEDOK': 0,\n",
    "    'town_BISHAN': 0,\n",
    "    'town_BUKIT BATOK': 0,\n",
    "    'town_BUKIT MERAH': 0,\n",
    "    'town_BUKIT PANJANG': 0,\n",
    "    'town_BUKIT TIMAH': 0,\n",
    "    'town_CENTRAL AREA': 0,\n",
    "    'town_CHOA CHU KANG': 0,\n",
    "    'town_CLEMENTI': 0,\n",
    "    'town_GEYLANG': 0,\n",
    "    'town_HOUGANG': 0,\n",
    "    'town_JURONG EAST': 0,\n",
    "    'town_JURONG WEST': 0,\n",
    "    'town_KALLANG/WHAMPOA': 0,\n",
    "    'town_LIM CHU KANG': 0,\n",
    "    'town_MARINE PARADE': 0,\n",
    "    'town_PASIR RIS': 0,\n",
    "    'town_PUNGGOL': 1,\n",
    "    'town_QUEENSTOWN': 0,\n",
    "    'town_SEMBAWANG': 0,\n",
    "    'town_SENGKANG': 0,\n",
    "    'town_SERANGOON': 0,\n",
    "    'town_TAMPINES': 0,\n",
    "    'town_TOA PAYOH': 0,\n",
    "    'town_WOODLANDS': 0,\n",
    "    'town_YISHUN': 0,\n",
    "    'flat_type_1 ROOM': 0,\n",
    "    'flat_type_2 ROOM': 0,\n",
    "    'flat_type_3 ROOM': 0,\n",
    "    'flat_type_4 ROOM': 1,\n",
    "    'flat_type_5 ROOM': 0,\n",
    "    'flat_type_EXECUTIVE': 0,\n",
    "    'flat_type_MULTI GENERATION': 0,\n",
    "    'storey_range_High Floor': 0,\n",
    "    'storey_range_Low Floor': 0,\n",
    "    'storey_range_Mid Floor': 1,\n",
    "    'storey_range_Very High Floor': 0,}, index = [0])"
   ]
  },
  {
   "cell_type": "code",
   "execution_count": 391,
   "id": "incomplete-effort",
   "metadata": {},
   "outputs": [
    {
     "name": "stdout",
     "output_type": "stream",
     "text": [
      "PSF: [538.25347273]\n"
     ]
    }
   ],
   "source": [
    "print('PSF:', model_RFR_.predict(Actual)*0.092903)"
   ]
  },
  {
   "cell_type": "code",
   "execution_count": null,
   "id": "peripheral-placement",
   "metadata": {},
   "outputs": [],
   "source": []
  }
 ],
 "metadata": {
  "kernelspec": {
   "display_name": "Python 3",
   "language": "python",
   "name": "python3"
  },
  "language_info": {
   "codemirror_mode": {
    "name": "ipython",
    "version": 3
   },
   "file_extension": ".py",
   "mimetype": "text/x-python",
   "name": "python",
   "nbconvert_exporter": "python",
   "pygments_lexer": "ipython3",
   "version": "3.8.5"
  }
 },
 "nbformat": 4,
 "nbformat_minor": 5
}
